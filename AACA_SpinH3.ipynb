{
  "cells": [
    {
      "cell_type": "markdown",
      "metadata": {
        "id": "view-in-github",
        "colab_type": "text"
      },
      "source": [
        "<a href=\"https://colab.research.google.com/github/DCorradetti/images/blob/main/AACA_SpinH3.ipynb\" target=\"_parent\"><img src=\"https://colab.research.google.com/assets/colab-badge.svg\" alt=\"Open In Colab\"/></a>"
      ]
    },
    {
      "cell_type": "code",
      "source": [
        "!pip install sympy galgebra"
      ],
      "metadata": {
        "colab": {
          "base_uri": "https://localhost:8080/"
        },
        "id": "9oo8n-394bxA",
        "outputId": "e4d9df5f-56b1-44c7-db4c-ee8152f91b48"
      },
      "execution_count": 7,
      "outputs": [
        {
          "output_type": "stream",
          "name": "stdout",
          "text": [
            "Requirement already satisfied: sympy in /usr/local/lib/python3.10/dist-packages (1.12)\n",
            "Requirement already satisfied: galgebra in /usr/local/lib/python3.10/dist-packages (0.5.0)\n",
            "Requirement already satisfied: mpmath>=0.19 in /usr/local/lib/python3.10/dist-packages (from sympy) (1.3.0)\n"
          ]
        }
      ]
    },
    {
      "cell_type": "code",
      "execution_count": 8,
      "metadata": {
        "id": "qqGMkxHi4XRB"
      },
      "outputs": [],
      "source": [
        "import sympy\n",
        "from sympy import symbols\n",
        "from galgebra.ga import Ga\n",
        "from galgebra.printer import latex\n",
        "from IPython.display import Math\n",
        "import numpy\n",
        "import math\n",
        "import random\n",
        "\n",
        "# tell sympy to use our printing by default\n",
        "sympy.init_printing(latex_printer=latex, use_latex='mathjax')\n",
        "\n",
        "s3coords = (x,y,z) = symbols('1 2 3', real=True)\n",
        "s3 = Ga('e',\n",
        "         g=[1,1,1],\n",
        "         coords=s3coords)\n",
        "\n",
        "M = s3.mv('M','mv',f = True)\n",
        "\n",
        "\n",
        "e1, e2, e3 = s3.mv()"
      ]
    },
    {
      "cell_type": "code",
      "execution_count": 9,
      "metadata": {
        "id": "PVzj2JRD4XRC"
      },
      "outputs": [],
      "source": [
        "import copy\n",
        "from sympy.matrices import Matrix, eye, zeros, ones, diag, GramSchmidt\n",
        "\n",
        "def closure_of_generators(gens):\n",
        "    elts = copy.copy(gens)\n",
        "    new = copy.copy(gens)\n",
        "\n",
        "    while True:\n",
        "        new1 = [ ]\n",
        "        for u in new:\n",
        "            for v in gens:\n",
        "                tmp = u * v\n",
        "                if not tmp in elts:\n",
        "                    if not tmp in new1:\n",
        "                        new1.append(tmp)\n",
        "        if new1 == [ ]:\n",
        "            break\n",
        "        else:\n",
        "            print(len(elts),len(new1))\n",
        "            print('----------------')\n",
        "            elts = elts+new1\n",
        "            new = copy.copy(new1)\n",
        "    print('There are ', len(elts), ' elements in total.')\n",
        "    return elts\n",
        "\n",
        "def closure_of_roots(simples):\n",
        "    simple_roots = [a for a in simples]\n",
        "    roots = [a for a in simples]\n",
        "    new = [a for a in simples]\n",
        "    while 1==1:\n",
        "        new1 = [ ]\n",
        "        for u in new:\n",
        "            for n in simple_roots:\n",
        "                tmp = -n * u * n\n",
        "                if not tmp in roots:\n",
        "                    if not tmp in new1:\n",
        "                        new1.append(tmp)\n",
        "        if new1 == [ ]:\n",
        "            break\n",
        "        else:\n",
        "            print(len(roots),len(new1))\n",
        "            print('----------------')\n",
        "            roots = roots+new1\n",
        "            new = [a for a in new1]\n",
        "    print('This is a root system with ', len(roots), ' roots')\n",
        "    return roots\n",
        "\n",
        "def order_of_element(m):\n",
        "    tmp = m\n",
        "    count = 1\n",
        "    id = e1*e1\n",
        "    while tmp != id:\n",
        "        tmp = tmp*m\n",
        "        count += 1\n",
        "    return count\n",
        "\n",
        "def find_inverses(group):\n",
        "    g_inv = []\n",
        "    m = group[0]\n",
        "    id = e1*e1\n",
        "    for i in group:\n",
        "        for j in group:\n",
        "            if i*j == id:\n",
        "                g_inv.append(j)\n",
        "                break\n",
        "    return g_inv\n",
        "\n",
        "\n",
        "def conjugacy_classes(elts):\n",
        "\n",
        "    elts_inv = find_inverses(elts)\n",
        "    classes = []\n",
        "    leftover = set(range(0,len(elts)))\n",
        "\n",
        "    for i in range(len(elts)):\n",
        "        if i in leftover:\n",
        "            newclass  = set([i])\n",
        "            for j in range(len(elts)):\n",
        "                if j != i:\n",
        "                    tmp = elts[j]*elts[i]*elts_inv[j]\n",
        "                    for k in range(len(elts)):\n",
        "                        if k in leftover:\n",
        "                            if tmp == elts[k]:\n",
        "                                newclass.add(k)\n",
        "                                leftover = leftover.difference([k])\n",
        "                                break\n",
        "            classes.append(newclass)\n",
        "            print(len(leftover))\n",
        "    return classes\n",
        "\n",
        "\n",
        "def spIP(R1, R2):\n",
        "\n",
        "    ip = 1/2*(R1*R2.rev()+R2*R1.rev())\n",
        "\n",
        "    return ip\n",
        "\n",
        "def CM(simple_roots_4D):\n",
        "\n",
        "    A = zeros(len(simple_roots_4D), len(simple_roots_4D))\n",
        "    for i in range(len(simple_roots_4D)):\n",
        "        for j in range(len(simple_roots_4D)):\n",
        "            tmp = spIP(simple_roots_4D[i], simple_roots_4D[j])\n",
        "            A[i,j]=2*tmp.blade_coefs()[0]\n",
        "    return A"
      ]
    },
    {
      "cell_type": "code",
      "execution_count": 10,
      "metadata": {
        "id": "QuLQCEO94XRC"
      },
      "outputs": [],
      "source": [
        "def find_ito_generators_recursive_pin(gens, given_element):\n",
        "    done = False\n",
        "    for g in range(len(gens)):\n",
        "        if gens[g] == given_element:\n",
        "            print('Done: generator', gens[g] , 'Generator ', g)\n",
        "            done = True\n",
        "            return gens[g]\n",
        "\n",
        "\n",
        "    elts = copy.copy(gens)\n",
        "    new = copy.copy(gens)\n",
        "    count = 0\n",
        "    while done == False:\n",
        "        new1 = [ ]\n",
        "        for u in new:\n",
        "            for v in range(len(gens)):\n",
        "                tmp = u * gens[v]\n",
        "                if not tmp in elts:\n",
        "                    if not tmp in new1:\n",
        "                        new1.append(tmp)\n",
        "                        count+=1\n",
        "                        #print(tmp, v)\n",
        "                        if given_element == tmp:\n",
        "                            print('-------')\n",
        "                            print('found it',  gens[v], 'Generator ',v)\n",
        "                            print('-------')\n",
        "                            find_ito_generators_recursive(gens, u)\n",
        "                            done = True\n",
        "                            break\n",
        "\n",
        "        if new1 == [ ]:\n",
        "            break\n",
        "        else:\n",
        "            print(len(elts),len(new1))\n",
        "            print('----------------')\n",
        "            elts = elts+new1\n",
        "            new = copy.copy(new1)\n",
        "    print('There are ', len(elts), ' elements in total.')\n",
        "    return"
      ]
    },
    {
      "cell_type": "code",
      "execution_count": 11,
      "metadata": {
        "id": "vnslymXz4XRC"
      },
      "outputs": [],
      "source": [
        "def closure_of_generators_words(gens):\n",
        "    elts = copy.copy(gens)\n",
        "    new = copy.copy(gens)\n",
        "    path = []\n",
        "    for i in range(len(gens)):\n",
        "        path.append(str(i+1))\n",
        "\n",
        "    while True:\n",
        "        new1 = [ ]\n",
        "        for j in range(len(new)):\n",
        "            for k in range(len(gens)):\n",
        "                tmp = new[j] * gens[k]\n",
        "                if not tmp in elts:\n",
        "                    if not tmp in new1:\n",
        "                        new1.append(tmp)\n",
        "                        path.append((path[len(elts)-len(new)+j])+str(k+1))\n",
        "                        print(tmp, 'generator path is ',(path[len(elts)-len(new)+j])+str(k+1))\n",
        "                        #print(len(elts)+len(new1), len(path), j)\n",
        "        if new1 == [ ]:\n",
        "            break\n",
        "        else:\n",
        "            print(len(elts),len(new1))\n",
        "            print('----------------')\n",
        "            elts = elts+new1\n",
        "            new = copy.copy(new1)\n",
        "    print('There are ', len(elts), ' elements in total.')\n",
        "    return elts, path"
      ]
    },
    {
      "cell_type": "code",
      "execution_count": 12,
      "metadata": {
        "id": "2F9VbJuR4XRD"
      },
      "outputs": [],
      "source": [
        "def fourDvecto3Dspinor(vector):\n",
        "    a0 = vector[0]\n",
        "    a3 = vector[1]\n",
        "    a2 =-vector[2]\n",
        "    a1 = vector[3]\n",
        "    B =a0+a1*(e2^e3) - a2*(e1^e3) + a3*(e1^e2)\n",
        "    return B\n",
        "\n",
        "def reflect_spinor(R1, R2):\n",
        "    B = -R1*R2.rev()*R1\n",
        "    return B\n",
        "\n",
        "def closure_of_roots_in_spin(simples):\n",
        "    simple_roots = [a for a in simples]\n",
        "    roots = [a for a in simples]\n",
        "    new = [a for a in simples]\n",
        "    while 1==1:\n",
        "        new1 = [ ]\n",
        "        for u in new:\n",
        "            for n in simple_roots:\n",
        "                tmp = reflect_spinor(n, u)\n",
        "                if not tmp in roots:\n",
        "                    if not tmp in new1:\n",
        "                        new1.append(tmp)\n",
        "        if new1 == [ ]:\n",
        "            break\n",
        "        else:\n",
        "            print(len(roots),len(new1))\n",
        "            print('----------------')\n",
        "            roots = roots+new1\n",
        "            new = [a for a in new1]\n",
        "    print('This is a root system with ', len(roots), ' roots')\n",
        "    return roots\n",
        "\n",
        "def closure_of_roots_in_spin_limit(simples, limit):\n",
        "    simple_roots = [a for a in simples]\n",
        "    roots = [a for a in simples]\n",
        "    new = [a for a in simples]\n",
        "    while 1==1:\n",
        "        new1 = [ ]\n",
        "        for u in new:\n",
        "            for n in simple_roots:\n",
        "                tmp = reflect_spinor(n, u)\n",
        "                if not tmp in roots:\n",
        "                    if not tmp in new1:\n",
        "                        new1.append(tmp)\n",
        "        if new1 == [ ]:\n",
        "            break\n",
        "        else:\n",
        "            print(len(roots),len(new1))\n",
        "            print('----------------')\n",
        "            roots = roots+new1\n",
        "            new = [a for a in new1]\n",
        "            if len(roots)>limit:\n",
        "                break\n",
        "    print('This is a root system with ', len(roots), ' roots')\n",
        "    return roots"
      ]
    },
    {
      "cell_type": "code",
      "execution_count": 13,
      "metadata": {
        "id": "jEwqufcs4XRD"
      },
      "outputs": [],
      "source": [
        "def conjugacy_classes_quicker(elts):\n",
        "\n",
        "    elts_inv = find_inverses_quicker(elts)\n",
        "    print('inverses found')\n",
        "    classes = []\n",
        "    leftover = set(range(0,len(elts)))\n",
        "\n",
        "    while len(leftover)>0:\n",
        "        i = random.choice(tuple(leftover))\n",
        "        newclass  = set([i])\n",
        "        for j in range(len(elts)):\n",
        "            if j != i:\n",
        "                tmp = elts[j]*elts[i]*elts_inv[j]\n",
        "                for k in range(len(elts)):\n",
        "                    if k in leftover:\n",
        "                        if tmp == elts[k]:\n",
        "                            newclass.add(k)\n",
        "                            leftover = leftover.difference([k])\n",
        "                            break\n",
        "        classes.append(newclass)\n",
        "        print(len(leftover))\n",
        "    return classes\n",
        "\n",
        "def find_inverses_quicker(group):\n",
        "    g_inv = []\n",
        "    id = e1*e1\n",
        "    for i in group:\n",
        "        j = i.rev()\n",
        "        if i*j == id:\n",
        "            g_inv.append(j)\n",
        "        elif i*j == -id:\n",
        "            g_inv.append(-j)\n",
        "        else:\n",
        "            print('theres a problem')\n",
        "    return g_inv"
      ]
    },
    {
      "cell_type": "markdown",
      "metadata": {
        "id": "zpD6Rytn4XRD"
      },
      "source": [
        "# Setting up the $H_3$ simple roots and computing the pin and spin group in terms of words in the generators/simple roots"
      ]
    },
    {
      "cell_type": "code",
      "execution_count": 14,
      "metadata": {
        "colab": {
          "base_uri": "https://localhost:8080/"
        },
        "id": "7I__5lX84XRE",
        "outputId": "1d5cd85b-585c-4df7-83c3-f960e08ca346"
      },
      "outputs": [
        {
          "output_type": "stream",
          "name": "stdout",
          "text": [
            "1 generator path is  11\n",
            "-0.5 + (0.25 + 0.25*sqrt(5))*e_1^e_2 + (0.25 - 0.25*sqrt(5))*e_2^e_3 generator path is  12\n",
            "-e_1^e_2 generator path is  13\n",
            "-0.5 + (-0.25*sqrt(5) - 0.25)*e_1^e_2 + (-0.25 + 0.25*sqrt(5))*e_2^e_3 generator path is  21\n",
            "-0.25*sqrt(5) - 0.25 + 0.5*e_1^e_2 + (-0.25 + 0.25*sqrt(5))*e_1^e_3 generator path is  23\n",
            "e_1^e_2 generator path is  31\n",
            "-0.25*sqrt(5) - 0.25 - 0.5*e_1^e_2 + (0.25 - 0.25*sqrt(5))*e_1^e_3 generator path is  32\n",
            "3 7\n",
            "----------------\n",
            "(0.25 + 0.25*sqrt(5))*e_1 - 0.5*e_2 + (-0.25 + 0.25*sqrt(5))*e_3 generator path is  121\n",
            "-0.5*e_1 + (-0.25*sqrt(5) - 0.25)*e_2 + (0.25 - 0.25*sqrt(5))*e_1^e_2^e_3 generator path is  123\n",
            "-e_1 generator path is  131\n",
            "0.5*e_1 + (-0.25*sqrt(5) - 0.25)*e_2 + (-0.25 + 0.25*sqrt(5))*e_1^e_2^e_3 generator path is  132\n",
            "-0.5*e_1 + (0.25 + 0.25*sqrt(5))*e_2 + (-0.25 + 0.25*sqrt(5))*e_1^e_2^e_3 generator path is  213\n",
            "0.5*e_1 + (-0.25*sqrt(5) - 0.25)*e_2 + (0.25 - 0.25*sqrt(5))*e_1^e_2^e_3 generator path is  231\n",
            "(-0.25 + 0.25*sqrt(5))*e_1 + (0.25 + 0.25*sqrt(5))*e_2 + 0.5*e_3 generator path is  232\n",
            "-0.5*e_1 + (0.25 + 0.25*sqrt(5))*e_2 + (0.25 - 0.25*sqrt(5))*e_1^e_2^e_3 generator path is  312\n",
            "-e_2 generator path is  313\n",
            "-0.5*e_1 + (-0.25*sqrt(5) - 0.25)*e_2 + (-0.25 + 0.25*sqrt(5))*e_1^e_2^e_3 generator path is  321\n",
            "(-0.25*sqrt(5) - 0.25)*e_1 + 0.5*e_2 + (-0.25 + 0.25*sqrt(5))*e_3 generator path is  323\n",
            "10 11\n",
            "----------------\n",
            "0.25 + 0.25*sqrt(5) + 0.5*e_1^e_2 + (0.25 - 0.25*sqrt(5))*e_1^e_3 generator path is  1213\n",
            "-0.25*sqrt(5) - 0.25 - 0.5*e_1^e_2 + (-0.25 + 0.25*sqrt(5))*e_1^e_3 generator path is  1231\n",
            "0.25 + 0.25*sqrt(5) + (0.25 - 0.25*sqrt(5))*e_1^e_2 + 0.5*e_2^e_3 generator path is  1232\n",
            "0.25 + 0.25*sqrt(5) + 0.5*e_1^e_2 + (-0.25 + 0.25*sqrt(5))*e_1^e_3 generator path is  1312\n",
            "-1 generator path is  1313\n",
            "-0.25*sqrt(5) - 0.25 + 0.5*e_1^e_2 + (0.25 - 0.25*sqrt(5))*e_1^e_3 generator path is  1321\n",
            "0.5 + (0.25 + 0.25*sqrt(5))*e_1^e_2 + (-0.25 + 0.25*sqrt(5))*e_2^e_3 generator path is  1323\n",
            "0.25 + 0.25*sqrt(5) - 0.5*e_1^e_2 + (0.25 - 0.25*sqrt(5))*e_1^e_3 generator path is  2131\n",
            "(0.25 + 0.25*sqrt(5))*e_1^e_2 + (-0.25 + 0.25*sqrt(5))*e_1^e_3 - 0.5*e_2^e_3 generator path is  2132\n",
            "(-0.25*sqrt(5) - 0.25)*e_1^e_2 + (0.25 - 0.25*sqrt(5))*e_1^e_3 + 0.5*e_2^e_3 generator path is  2312\n",
            "0.5 + (0.25 + 0.25*sqrt(5))*e_1^e_2 + (0.25 - 0.25*sqrt(5))*e_2^e_3 generator path is  2313\n",
            "0.25 + 0.25*sqrt(5) + (-0.25 + 0.25*sqrt(5))*e_1^e_2 - 0.5*e_2^e_3 generator path is  2321\n",
            "-0.25 + 0.25*sqrt(5) + (-0.25*sqrt(5) - 0.25)*e_1^e_2 - 0.5*e_1^e_3 generator path is  2323\n",
            "0.25 + 0.25*sqrt(5) - 0.5*e_1^e_2 + (-0.25 + 0.25*sqrt(5))*e_1^e_3 generator path is  3121\n",
            "-0.5 + (-0.25*sqrt(5) - 0.25)*e_1^e_2 + (0.25 - 0.25*sqrt(5))*e_2^e_3 generator path is  3123\n",
            "0.5 + (-0.25*sqrt(5) - 0.25)*e_1^e_2 + (-0.25 + 0.25*sqrt(5))*e_2^e_3 generator path is  3132\n",
            "-0.5 + (0.25 + 0.25*sqrt(5))*e_1^e_2 + (-0.25 + 0.25*sqrt(5))*e_2^e_3 generator path is  3213\n",
            "0.5 + (-0.25*sqrt(5) - 0.25)*e_1^e_2 + (0.25 - 0.25*sqrt(5))*e_2^e_3 generator path is  3231\n",
            "-0.25 + 0.25*sqrt(5) + (0.25 + 0.25*sqrt(5))*e_1^e_2 + 0.5*e_1^e_3 generator path is  3232\n",
            "21 19\n",
            "----------------\n",
            "0.5*e_1 + (0.25 + 0.25*sqrt(5))*e_2 + (-0.25 + 0.25*sqrt(5))*e_1^e_2^e_3 generator path is  12131\n",
            "(-0.25*sqrt(5) - 0.25)*e_1 - 0.5*e_3 + (0.25 - 0.25*sqrt(5))*e_1^e_2^e_3 generator path is  12132\n",
            "(0.25 + 0.25*sqrt(5))*e_1 + 0.5*e_3 + (-0.25 + 0.25*sqrt(5))*e_1^e_2^e_3 generator path is  12312\n",
            "(-0.25*sqrt(5) - 0.25)*e_1 + 0.5*e_2 + (0.25 - 0.25*sqrt(5))*e_3 generator path is  12313\n",
            "(0.25 - 0.25*sqrt(5))*e_1 + (0.25 + 0.25*sqrt(5))*e_2 - 0.5*e_3 generator path is  12321\n",
            "(0.25 + 0.25*sqrt(5))*e_1 + (-0.25 + 0.25*sqrt(5))*e_2 + 0.5*e_1^e_2^e_3 generator path is  12323\n",
            "0.5*e_1 + (0.25 + 0.25*sqrt(5))*e_2 + (0.25 - 0.25*sqrt(5))*e_1^e_2^e_3 generator path is  13121\n",
            "(0.25 + 0.25*sqrt(5))*e_1 - 0.5*e_2 + (0.25 - 0.25*sqrt(5))*e_3 generator path is  13123\n",
            "(0.25 + 0.25*sqrt(5))*e_1 + 0.5*e_2 + (-0.25 + 0.25*sqrt(5))*e_3 generator path is  13132\n",
            "(-0.25*sqrt(5) - 0.25)*e_1 - 0.5*e_2 + (-0.25 + 0.25*sqrt(5))*e_3 generator path is  13213\n",
            "(0.25 + 0.25*sqrt(5))*e_1 + 0.5*e_2 + (0.25 - 0.25*sqrt(5))*e_3 generator path is  13231\n",
            "(-0.25*sqrt(5) - 0.25)*e_1 + (-0.25 + 0.25*sqrt(5))*e_2 - 0.5*e_1^e_2^e_3 generator path is  13232\n",
            "(0.25 - 0.25*sqrt(5))*e_1 + (-0.25*sqrt(5) - 0.25)*e_2 - 0.5*e_3 generator path is  21312\n",
            "(0.25 + 0.25*sqrt(5))*e_1 + 0.5*e_3 + (0.25 - 0.25*sqrt(5))*e_1^e_2^e_3 generator path is  21321\n",
            "(-0.25*sqrt(5) - 0.25)*e_2 + (0.25 - 0.25*sqrt(5))*e_3 - 0.5*e_1^e_2^e_3 generator path is  21323\n",
            "(-0.25*sqrt(5) - 0.25)*e_1 - 0.5*e_3 + (-0.25 + 0.25*sqrt(5))*e_1^e_2^e_3 generator path is  23121\n",
            "(0.25 + 0.25*sqrt(5))*e_2 + (-0.25 + 0.25*sqrt(5))*e_3 + 0.5*e_1^e_2^e_3 generator path is  23123\n",
            "(0.25 + 0.25*sqrt(5))*e_1 + (0.25 - 0.25*sqrt(5))*e_2 - 0.5*e_1^e_2^e_3 generator path is  23213\n",
            "(-0.25*sqrt(5) - 0.25)*e_1 + (-0.25 + 0.25*sqrt(5))*e_2 + 0.5*e_1^e_2^e_3 generator path is  23231\n",
            "(-0.25 + 0.25*sqrt(5))*e_1 + (-0.25*sqrt(5) - 0.25)*e_2 - 0.5*e_3 generator path is  23232\n",
            "(0.25 + 0.25*sqrt(5))*e_1 + (0.25 - 0.25*sqrt(5))*e_2 + 0.5*e_1^e_2^e_3 generator path is  31232\n",
            "(0.25 + 0.25*sqrt(5))*e_2 + (-0.25 + 0.25*sqrt(5))*e_3 - 0.5*e_1^e_2^e_3 generator path is  32132\n",
            "(-0.25*sqrt(5) - 0.25)*e_2 + (0.25 - 0.25*sqrt(5))*e_3 + 0.5*e_1^e_2^e_3 generator path is  32312\n",
            "(0.25 + 0.25*sqrt(5))*e_1 + (-0.25 + 0.25*sqrt(5))*e_2 - 0.5*e_1^e_2^e_3 generator path is  32321\n",
            "40 24\n",
            "----------------\n",
            "-0.25*sqrt(5) - 0.25 + (-0.25 + 0.25*sqrt(5))*e_1^e_2 - 0.5*e_2^e_3 generator path is  121312\n",
            "(-0.25*sqrt(5) - 0.25)*e_1^e_2 + (-0.25 + 0.25*sqrt(5))*e_1^e_3 + 0.5*e_2^e_3 generator path is  121321\n",
            "-0.25*sqrt(5) - 0.25 + 0.5*e_1^e_3 + (0.25 - 0.25*sqrt(5))*e_2^e_3 generator path is  121323\n",
            "(0.25 + 0.25*sqrt(5))*e_1^e_2 + (0.25 - 0.25*sqrt(5))*e_1^e_3 - 0.5*e_2^e_3 generator path is  123121\n",
            "0.25 + 0.25*sqrt(5) - 0.5*e_1^e_3 + (-0.25 + 0.25*sqrt(5))*e_2^e_3 generator path is  123123\n",
            "0.25 - 0.25*sqrt(5) + (-0.25*sqrt(5) - 0.25)*e_1^e_2 + 0.5*e_1^e_3 generator path is  123213\n",
            "-0.25 + 0.25*sqrt(5) + (0.25 + 0.25*sqrt(5))*e_1^e_2 - 0.5*e_1^e_3 generator path is  123231\n",
            "-0.25*sqrt(5) - 0.25 + (0.25 - 0.25*sqrt(5))*e_1^e_2 - 0.5*e_2^e_3 generator path is  123232\n",
            "0.25 - 0.25*sqrt(5) + (-0.25*sqrt(5) - 0.25)*e_1^e_2 - 0.5*e_1^e_3 generator path is  131232\n",
            "0.25 + 0.25*sqrt(5) + 0.5*e_1^e_3 + (-0.25 + 0.25*sqrt(5))*e_2^e_3 generator path is  132132\n",
            "-0.25*sqrt(5) - 0.25 - 0.5*e_1^e_3 + (0.25 - 0.25*sqrt(5))*e_2^e_3 generator path is  132312\n",
            "-0.25 + 0.25*sqrt(5) + (-0.25*sqrt(5) - 0.25)*e_1^e_2 + 0.5*e_1^e_3 generator path is  132321\n",
            "-0.25*sqrt(5) - 0.25 + (0.25 - 0.25*sqrt(5))*e_1^e_2 + 0.5*e_2^e_3 generator path is  213121\n",
            "0.25 - 0.25*sqrt(5) + (0.25 + 0.25*sqrt(5))*e_1^e_2 + 0.5*e_1^e_3 generator path is  213123\n",
            "0.25 + 0.25*sqrt(5) - 0.5*e_1^e_3 + (0.25 - 0.25*sqrt(5))*e_2^e_3 generator path is  213213\n",
            "-0.25*sqrt(5) - 0.25 + 0.5*e_1^e_3 + (-0.25 + 0.25*sqrt(5))*e_2^e_3 generator path is  213231\n",
            "0.5 - 0.5*e_1^e_2 - 0.5*e_1^e_3 + 0.5*e_2^e_3 generator path is  213232\n",
            "-0.5 + 0.5*e_1^e_2 + 0.5*e_1^e_3 - 0.5*e_2^e_3 generator path is  231232\n",
            "-0.5 - 0.5*e_1^e_2 - 0.5*e_1^e_3 + 0.5*e_2^e_3 generator path is  232132\n",
            "0.5 + 0.5*e_1^e_2 + 0.5*e_1^e_3 - 0.5*e_2^e_3 generator path is  232312\n",
            "-0.25*sqrt(5) - 0.25 + (-0.25 + 0.25*sqrt(5))*e_1^e_2 + 0.5*e_2^e_3 generator path is  232321\n",
            "0.25 - 0.25*sqrt(5) + (0.25 + 0.25*sqrt(5))*e_1^e_2 - 0.5*e_1^e_3 generator path is  312321\n",
            "0.25 + 0.25*sqrt(5) + (-0.25 + 0.25*sqrt(5))*e_1^e_2 + 0.5*e_2^e_3 generator path is  312323\n",
            "0.25 + 0.25*sqrt(5) + 0.5*e_1^e_3 + (0.25 - 0.25*sqrt(5))*e_2^e_3 generator path is  321321\n",
            "(-0.25*sqrt(5) - 0.25)*e_1^e_2 + (0.25 - 0.25*sqrt(5))*e_1^e_3 - 0.5*e_2^e_3 generator path is  321323\n",
            "-0.25*sqrt(5) - 0.25 - 0.5*e_1^e_3 + (-0.25 + 0.25*sqrt(5))*e_2^e_3 generator path is  323121\n",
            "(0.25 + 0.25*sqrt(5))*e_1^e_2 + (-0.25 + 0.25*sqrt(5))*e_1^e_3 + 0.5*e_2^e_3 generator path is  323123\n",
            "0.25 + 0.25*sqrt(5) + (0.25 - 0.25*sqrt(5))*e_1^e_2 - 0.5*e_2^e_3 generator path is  323213\n",
            "64 28\n",
            "----------------\n",
            "(-0.25 + 0.25*sqrt(5))*e_1 + (-0.25*sqrt(5) - 0.25)*e_2 + 0.5*e_3 generator path is  1213121\n",
            "(-0.25*sqrt(5) - 0.25)*e_1 + (0.25 - 0.25*sqrt(5))*e_2 - 0.5*e_1^e_2^e_3 generator path is  1213123\n",
            "(0.25 + 0.25*sqrt(5))*e_2 + (0.25 - 0.25*sqrt(5))*e_3 + 0.5*e_1^e_2^e_3 generator path is  1213213\n",
            "(-0.25*sqrt(5) - 0.25)*e_2 + (-0.25 + 0.25*sqrt(5))*e_3 - 0.5*e_1^e_2^e_3 generator path is  1213231\n",
            "0.5*e_1 + 0.5*e_2 + 0.5*e_3 + 0.5*e_1^e_2^e_3 generator path is  1213232\n",
            "-0.5*e_1 - 0.5*e_2 - 0.5*e_3 - 0.5*e_1^e_2^e_3 generator path is  1231232\n",
            "0.5*e_1 - 0.5*e_2 + 0.5*e_3 + 0.5*e_1^e_2^e_3 generator path is  1232132\n",
            "-0.5*e_1 + 0.5*e_2 - 0.5*e_3 - 0.5*e_1^e_2^e_3 generator path is  1232312\n",
            "(0.25 - 0.25*sqrt(5))*e_1 + (-0.25*sqrt(5) - 0.25)*e_2 + 0.5*e_3 generator path is  1232321\n",
            "(-0.25*sqrt(5) - 0.25)*e_1 + (0.25 - 0.25*sqrt(5))*e_2 + 0.5*e_1^e_2^e_3 generator path is  1312321\n",
            "(0.25 - 0.25*sqrt(5))*e_1 + (0.25 + 0.25*sqrt(5))*e_2 + 0.5*e_3 generator path is  1312323\n",
            "(0.25 + 0.25*sqrt(5))*e_2 + (0.25 - 0.25*sqrt(5))*e_3 - 0.5*e_1^e_2^e_3 generator path is  1321321\n",
            "(0.25 + 0.25*sqrt(5))*e_1 - 0.5*e_3 + (-0.25 + 0.25*sqrt(5))*e_1^e_2^e_3 generator path is  1321323\n",
            "(-0.25*sqrt(5) - 0.25)*e_2 + (-0.25 + 0.25*sqrt(5))*e_3 + 0.5*e_1^e_2^e_3 generator path is  1323121\n",
            "(-0.25*sqrt(5) - 0.25)*e_1 + 0.5*e_3 + (0.25 - 0.25*sqrt(5))*e_1^e_2^e_3 generator path is  1323123\n",
            "(-0.25 + 0.25*sqrt(5))*e_1 + (0.25 + 0.25*sqrt(5))*e_2 - 0.5*e_3 generator path is  1323213\n",
            "-0.5*e_1 + (0.25 - 0.25*sqrt(5))*e_2 + (-0.25*sqrt(5) - 0.25)*e_3 generator path is  2132132\n",
            "0.5*e_1 + (-0.25 + 0.25*sqrt(5))*e_2 + (0.25 + 0.25*sqrt(5))*e_3 generator path is  2132312\n",
            "-0.5*e_1 + 0.5*e_2 - 0.5*e_3 + 0.5*e_1^e_2^e_3 generator path is  2132321\n",
            "0.5*e_1 - 0.5*e_2 + 0.5*e_3 - 0.5*e_1^e_2^e_3 generator path is  2312321\n",
            "-0.5*e_1 - 0.5*e_2 - 0.5*e_3 + 0.5*e_1^e_2^e_3 generator path is  2321321\n",
            "-0.5*e_1 + 0.5*e_2 + 0.5*e_3 + 0.5*e_1^e_2^e_3 generator path is  2321323\n",
            "0.5*e_1 + 0.5*e_2 + 0.5*e_3 - 0.5*e_1^e_2^e_3 generator path is  2323121\n",
            "0.5*e_1 - 0.5*e_2 - 0.5*e_3 - 0.5*e_1^e_2^e_3 generator path is  2323123\n",
            "(0.25 + 0.25*sqrt(5))*e_1 - 0.5*e_3 + (0.25 - 0.25*sqrt(5))*e_1^e_2^e_3 generator path is  3213213\n",
            "(-0.25*sqrt(5) - 0.25)*e_1 + 0.5*e_3 + (-0.25 + 0.25*sqrt(5))*e_1^e_2^e_3 generator path is  3213231\n",
            "0.5*e_1 - 0.5*e_2 - 0.5*e_3 + 0.5*e_1^e_2^e_3 generator path is  3213232\n",
            "-0.5*e_1 + 0.5*e_2 + 0.5*e_3 - 0.5*e_1^e_2^e_3 generator path is  3231232\n",
            "92 28\n",
            "----------------\n",
            "0.25 - 0.25*sqrt(5) + 0.5*e_1^e_2 + (-0.25*sqrt(5) - 0.25)*e_2^e_3 generator path is  12132132\n",
            "-0.25 + 0.25*sqrt(5) - 0.5*e_1^e_2 + (0.25 + 0.25*sqrt(5))*e_2^e_3 generator path is  12132312\n",
            "0.5 + 0.5*e_1^e_2 - 0.5*e_1^e_3 - 0.5*e_2^e_3 generator path is  12132321\n",
            "-0.5 - 0.5*e_1^e_2 + 0.5*e_1^e_3 + 0.5*e_2^e_3 generator path is  12312321\n",
            "-0.5 + 0.5*e_1^e_2 - 0.5*e_1^e_3 - 0.5*e_2^e_3 generator path is  12321321\n",
            "0.5 + 0.5*e_1^e_2 - 0.5*e_1^e_3 + 0.5*e_2^e_3 generator path is  12321323\n",
            "0.5 - 0.5*e_1^e_2 + 0.5*e_1^e_3 + 0.5*e_2^e_3 generator path is  12323121\n",
            "-0.5 - 0.5*e_1^e_2 + 0.5*e_1^e_3 - 0.5*e_2^e_3 generator path is  12323123\n",
            "(-0.25*sqrt(5) - 0.25)*e_1^e_2 + (-0.25 + 0.25*sqrt(5))*e_1^e_3 - 0.5*e_2^e_3 generator path is  13213213\n",
            "(0.25 + 0.25*sqrt(5))*e_1^e_2 + (0.25 - 0.25*sqrt(5))*e_1^e_3 + 0.5*e_2^e_3 generator path is  13213231\n",
            "-0.5 - 0.5*e_1^e_2 - 0.5*e_1^e_3 - 0.5*e_2^e_3 generator path is  13213232\n",
            "0.5 + 0.5*e_1^e_2 + 0.5*e_1^e_3 + 0.5*e_2^e_3 generator path is  13231232\n",
            "0.25 - 0.25*sqrt(5) - 0.5*e_1^e_2 + (0.25 + 0.25*sqrt(5))*e_2^e_3 generator path is  21321321\n",
            "-0.5 + (-0.25 + 0.25*sqrt(5))*e_1^e_2 + (0.25 + 0.25*sqrt(5))*e_1^e_3 generator path is  21321323\n",
            "-0.25 + 0.25*sqrt(5) + 0.5*e_1^e_2 + (-0.25*sqrt(5) - 0.25)*e_2^e_3 generator path is  21323121\n",
            "0.5 + (0.25 - 0.25*sqrt(5))*e_1^e_2 + (-0.25*sqrt(5) - 0.25)*e_1^e_3 generator path is  21323123\n",
            "-0.5 + 0.5*e_1^e_2 + 0.5*e_1^e_3 + 0.5*e_2^e_3 generator path is  23213213\n",
            "0.5 - 0.5*e_1^e_2 - 0.5*e_1^e_3 - 0.5*e_2^e_3 generator path is  23213231\n",
            "0.5*e_1^e_2 + (0.25 + 0.25*sqrt(5))*e_1^e_3 + (0.25 - 0.25*sqrt(5))*e_2^e_3 generator path is  23213232\n",
            "-0.5*e_1^e_2 + (-0.25*sqrt(5) - 0.25)*e_1^e_3 + (-0.25 + 0.25*sqrt(5))*e_2^e_3 generator path is  23231232\n",
            "-0.5 + (0.25 - 0.25*sqrt(5))*e_1^e_2 + (-0.25*sqrt(5) - 0.25)*e_1^e_3 generator path is  32132132\n",
            "0.5 + (-0.25 + 0.25*sqrt(5))*e_1^e_2 + (0.25 + 0.25*sqrt(5))*e_1^e_3 generator path is  32132312\n",
            "-0.5 + 0.5*e_1^e_2 - 0.5*e_1^e_3 + 0.5*e_2^e_3 generator path is  32132321\n",
            "0.5 - 0.5*e_1^e_2 + 0.5*e_1^e_3 - 0.5*e_2^e_3 generator path is  32312321\n",
            "120 24\n",
            "----------------\n",
            "0.5*e_1 + (0.25 - 0.25*sqrt(5))*e_2 + (0.25 + 0.25*sqrt(5))*e_3 generator path is  121321321\n",
            "(0.25 - 0.25*sqrt(5))*e_1 - 0.5*e_2 + (-0.25*sqrt(5) - 0.25)*e_1^e_2^e_3 generator path is  121321323\n",
            "-0.5*e_1 + (-0.25 + 0.25*sqrt(5))*e_2 + (-0.25*sqrt(5) - 0.25)*e_3 generator path is  121323121\n",
            "(-0.25 + 0.25*sqrt(5))*e_1 + 0.5*e_2 + (0.25 + 0.25*sqrt(5))*e_1^e_2^e_3 generator path is  121323123\n",
            "-0.5*e_1 - 0.5*e_2 + 0.5*e_3 - 0.5*e_1^e_2^e_3 generator path is  123213213\n",
            "0.5*e_1 + 0.5*e_2 - 0.5*e_3 + 0.5*e_1^e_2^e_3 generator path is  123213231\n",
            "-0.5*e_1 + (0.25 - 0.25*sqrt(5))*e_3 + (-0.25*sqrt(5) - 0.25)*e_1^e_2^e_3 generator path is  123213232\n",
            "0.5*e_1 + (-0.25 + 0.25*sqrt(5))*e_3 + (0.25 + 0.25*sqrt(5))*e_1^e_2^e_3 generator path is  123231232\n",
            "(-0.25 + 0.25*sqrt(5))*e_1 - 0.5*e_2 + (0.25 + 0.25*sqrt(5))*e_1^e_2^e_3 generator path is  132132132\n",
            "(0.25 - 0.25*sqrt(5))*e_1 + 0.5*e_2 + (-0.25*sqrt(5) - 0.25)*e_1^e_2^e_3 generator path is  132132312\n",
            "-0.5*e_1 - 0.5*e_2 + 0.5*e_3 + 0.5*e_1^e_2^e_3 generator path is  132132321\n",
            "0.5*e_1 + 0.5*e_2 - 0.5*e_3 - 0.5*e_1^e_2^e_3 generator path is  132312321\n",
            "(0.25 - 0.25*sqrt(5))*e_1 + 0.5*e_2 + (0.25 + 0.25*sqrt(5))*e_1^e_2^e_3 generator path is  213213213\n",
            "(-0.25 + 0.25*sqrt(5))*e_1 - 0.5*e_2 + (-0.25*sqrt(5) - 0.25)*e_1^e_2^e_3 generator path is  213213231\n",
            "0.5*e_2 + (0.25 + 0.25*sqrt(5))*e_3 + (-0.25 + 0.25*sqrt(5))*e_1^e_2^e_3 generator path is  213213232\n",
            "-0.5*e_2 + (-0.25*sqrt(5) - 0.25)*e_3 + (0.25 - 0.25*sqrt(5))*e_1^e_2^e_3 generator path is  213231232\n",
            "0.5*e_2 + (0.25 + 0.25*sqrt(5))*e_3 + (0.25 - 0.25*sqrt(5))*e_1^e_2^e_3 generator path is  232132132\n",
            "-0.5*e_2 + (-0.25*sqrt(5) - 0.25)*e_3 + (-0.25 + 0.25*sqrt(5))*e_1^e_2^e_3 generator path is  232132312\n",
            "0.5*e_1 + (-0.25 + 0.25*sqrt(5))*e_3 + (-0.25*sqrt(5) - 0.25)*e_1^e_2^e_3 generator path is  232132321\n",
            "-0.5*e_1 + (0.25 - 0.25*sqrt(5))*e_3 + (0.25 + 0.25*sqrt(5))*e_1^e_2^e_3 generator path is  232312321\n",
            "(0.25 - 0.25*sqrt(5))*e_1 - 0.5*e_2 + (0.25 + 0.25*sqrt(5))*e_1^e_2^e_3 generator path is  321321321\n",
            "-0.5*e_1 + (-0.25 + 0.25*sqrt(5))*e_2 + (0.25 + 0.25*sqrt(5))*e_3 generator path is  321321323\n",
            "(-0.25 + 0.25*sqrt(5))*e_1 + 0.5*e_2 + (-0.25*sqrt(5) - 0.25)*e_1^e_2^e_3 generator path is  321323121\n",
            "0.5*e_1 + (0.25 - 0.25*sqrt(5))*e_2 + (-0.25*sqrt(5) - 0.25)*e_3 generator path is  321323123\n",
            "144 24\n",
            "----------------\n",
            "0.5 + (-0.25 + 0.25*sqrt(5))*e_1^e_2 + (-0.25*sqrt(5) - 0.25)*e_1^e_3 generator path is  1213213213\n",
            "-0.5 + (0.25 - 0.25*sqrt(5))*e_1^e_2 + (0.25 + 0.25*sqrt(5))*e_1^e_3 generator path is  1213213231\n",
            "0.5 + (0.25 - 0.25*sqrt(5))*e_1^e_3 + (0.25 + 0.25*sqrt(5))*e_2^e_3 generator path is  1213213232\n",
            "-0.5 + (-0.25 + 0.25*sqrt(5))*e_1^e_3 + (-0.25*sqrt(5) - 0.25)*e_2^e_3 generator path is  1213231232\n",
            "0.5 + (-0.25 + 0.25*sqrt(5))*e_1^e_3 + (0.25 + 0.25*sqrt(5))*e_2^e_3 generator path is  1232132132\n",
            "-0.5 + (0.25 - 0.25*sqrt(5))*e_1^e_3 + (-0.25*sqrt(5) - 0.25)*e_2^e_3 generator path is  1232132312\n",
            "-0.5*e_1^e_2 + (0.25 + 0.25*sqrt(5))*e_1^e_3 + (-0.25 + 0.25*sqrt(5))*e_2^e_3 generator path is  1232132321\n",
            "0.5*e_1^e_2 + (-0.25*sqrt(5) - 0.25)*e_1^e_3 + (0.25 - 0.25*sqrt(5))*e_2^e_3 generator path is  1232312321\n",
            "-0.5 + (-0.25 + 0.25*sqrt(5))*e_1^e_2 + (-0.25*sqrt(5) - 0.25)*e_1^e_3 generator path is  1321321321\n",
            "-0.25 + 0.25*sqrt(5) + 0.5*e_1^e_2 + (0.25 + 0.25*sqrt(5))*e_2^e_3 generator path is  1321321323\n",
            "0.5 + (0.25 - 0.25*sqrt(5))*e_1^e_2 + (0.25 + 0.25*sqrt(5))*e_1^e_3 generator path is  1321323121\n",
            "0.25 - 0.25*sqrt(5) - 0.5*e_1^e_2 + (-0.25*sqrt(5) - 0.25)*e_2^e_3 generator path is  1321323123\n",
            "(-0.25 + 0.25*sqrt(5))*e_1^e_2 + 0.5*e_1^e_3 + (-0.25*sqrt(5) - 0.25)*e_2^e_3 generator path is  2132132132\n",
            "(0.25 - 0.25*sqrt(5))*e_1^e_2 - 0.5*e_1^e_3 + (0.25 + 0.25*sqrt(5))*e_2^e_3 generator path is  2132132312\n",
            "0.5 + (0.25 - 0.25*sqrt(5))*e_1^e_3 + (-0.25*sqrt(5) - 0.25)*e_2^e_3 generator path is  2132132321\n",
            "-0.5 + (-0.25 + 0.25*sqrt(5))*e_1^e_3 + (0.25 + 0.25*sqrt(5))*e_2^e_3 generator path is  2132312321\n",
            "0.5 + (-0.25 + 0.25*sqrt(5))*e_1^e_3 + (-0.25*sqrt(5) - 0.25)*e_2^e_3 generator path is  2321321321\n",
            "-0.5*e_1^e_2 + (-0.25*sqrt(5) - 0.25)*e_1^e_3 + (0.25 - 0.25*sqrt(5))*e_2^e_3 generator path is  2321321323\n",
            "-0.5 + (0.25 - 0.25*sqrt(5))*e_1^e_3 + (0.25 + 0.25*sqrt(5))*e_2^e_3 generator path is  2321323121\n",
            "0.5*e_1^e_2 + (0.25 + 0.25*sqrt(5))*e_1^e_3 + (-0.25 + 0.25*sqrt(5))*e_2^e_3 generator path is  2321323123\n",
            "0.25 - 0.25*sqrt(5) + 0.5*e_1^e_2 + (0.25 + 0.25*sqrt(5))*e_2^e_3 generator path is  3213213213\n",
            "-0.25 + 0.25*sqrt(5) - 0.5*e_1^e_2 + (-0.25*sqrt(5) - 0.25)*e_2^e_3 generator path is  3213213231\n",
            "168 22\n",
            "----------------\n",
            "(0.25 - 0.25*sqrt(5))*e_1 + (-0.25*sqrt(5) - 0.25)*e_3 - 0.5*e_1^e_2^e_3 generator path is  12132132132\n",
            "(-0.25 + 0.25*sqrt(5))*e_1 + (0.25 + 0.25*sqrt(5))*e_3 + 0.5*e_1^e_2^e_3 generator path is  12132132312\n",
            "0.5*e_2 + (-0.25*sqrt(5) - 0.25)*e_3 + (-0.25 + 0.25*sqrt(5))*e_1^e_2^e_3 generator path is  12132132321\n",
            "-0.5*e_2 + (0.25 + 0.25*sqrt(5))*e_3 + (0.25 - 0.25*sqrt(5))*e_1^e_2^e_3 generator path is  12132312321\n",
            "0.5*e_2 + (-0.25*sqrt(5) - 0.25)*e_3 + (0.25 - 0.25*sqrt(5))*e_1^e_2^e_3 generator path is  12321321321\n",
            "0.5*e_1 + (0.25 - 0.25*sqrt(5))*e_3 + (0.25 + 0.25*sqrt(5))*e_1^e_2^e_3 generator path is  12321321323\n",
            "-0.5*e_2 + (0.25 + 0.25*sqrt(5))*e_3 + (-0.25 + 0.25*sqrt(5))*e_1^e_2^e_3 generator path is  12321323121\n",
            "-0.5*e_1 + (-0.25 + 0.25*sqrt(5))*e_3 + (-0.25*sqrt(5) - 0.25)*e_1^e_2^e_3 generator path is  12321323123\n",
            "-0.5*e_1 + (0.25 - 0.25*sqrt(5))*e_2 + (0.25 + 0.25*sqrt(5))*e_3 generator path is  13213213213\n",
            "0.5*e_1 + (-0.25 + 0.25*sqrt(5))*e_2 + (-0.25*sqrt(5) - 0.25)*e_3 generator path is  13213213231\n",
            "(-0.25 + 0.25*sqrt(5))*e_1 + (0.25 + 0.25*sqrt(5))*e_3 - 0.5*e_1^e_2^e_3 generator path is  21321321321\n",
            "(0.25 - 0.25*sqrt(5))*e_2 - 0.5*e_3 + (-0.25*sqrt(5) - 0.25)*e_1^e_2^e_3 generator path is  21321321323\n",
            "(0.25 - 0.25*sqrt(5))*e_1 + (-0.25*sqrt(5) - 0.25)*e_3 + 0.5*e_1^e_2^e_3 generator path is  21321323121\n",
            "(-0.25 + 0.25*sqrt(5))*e_2 + 0.5*e_3 + (0.25 + 0.25*sqrt(5))*e_1^e_2^e_3 generator path is  21321323123\n",
            "0.5*e_1 + (0.25 - 0.25*sqrt(5))*e_3 + (-0.25*sqrt(5) - 0.25)*e_1^e_2^e_3 generator path is  23213213213\n",
            "-0.5*e_1 + (-0.25 + 0.25*sqrt(5))*e_3 + (0.25 + 0.25*sqrt(5))*e_1^e_2^e_3 generator path is  23213213231\n",
            "(-0.25 + 0.25*sqrt(5))*e_2 + 0.5*e_3 + (-0.25*sqrt(5) - 0.25)*e_1^e_2^e_3 generator path is  32132132132\n",
            "(0.25 - 0.25*sqrt(5))*e_2 - 0.5*e_3 + (0.25 + 0.25*sqrt(5))*e_1^e_2^e_3 generator path is  32132132312\n",
            "190 18\n",
            "----------------\n",
            "(0.25 - 0.25*sqrt(5))*e_1^e_2 + 0.5*e_1^e_3 + (0.25 + 0.25*sqrt(5))*e_2^e_3 generator path is  121321321321\n",
            "0.25 - 0.25*sqrt(5) + (0.25 + 0.25*sqrt(5))*e_1^e_3 - 0.5*e_2^e_3 generator path is  121321321323\n",
            "(-0.25 + 0.25*sqrt(5))*e_1^e_2 - 0.5*e_1^e_3 + (-0.25*sqrt(5) - 0.25)*e_2^e_3 generator path is  121321323121\n",
            "-0.25 + 0.25*sqrt(5) + (-0.25*sqrt(5) - 0.25)*e_1^e_3 + 0.5*e_2^e_3 generator path is  121321323123\n",
            "-0.5*e_1^e_2 + (0.25 + 0.25*sqrt(5))*e_1^e_3 + (0.25 - 0.25*sqrt(5))*e_2^e_3 generator path is  123213213213\n",
            "0.5*e_1^e_2 + (-0.25*sqrt(5) - 0.25)*e_1^e_3 + (-0.25 + 0.25*sqrt(5))*e_2^e_3 generator path is  123213213231\n",
            "-0.25 + 0.25*sqrt(5) + (0.25 + 0.25*sqrt(5))*e_1^e_3 + 0.5*e_2^e_3 generator path is  132132132132\n",
            "0.25 - 0.25*sqrt(5) + (-0.25*sqrt(5) - 0.25)*e_1^e_3 - 0.5*e_2^e_3 generator path is  132132132312\n",
            "-0.25 + 0.25*sqrt(5) + (-0.25*sqrt(5) - 0.25)*e_1^e_3 - 0.5*e_2^e_3 generator path is  213213213213\n",
            "0.25 - 0.25*sqrt(5) + (0.25 + 0.25*sqrt(5))*e_1^e_3 + 0.5*e_2^e_3 generator path is  213213213231\n",
            "0.25 - 0.25*sqrt(5) + (-0.25*sqrt(5) - 0.25)*e_1^e_3 + 0.5*e_2^e_3 generator path is  232132132132\n",
            "-0.25 + 0.25*sqrt(5) + (0.25 + 0.25*sqrt(5))*e_1^e_3 - 0.5*e_2^e_3 generator path is  232132132312\n",
            "(0.25 - 0.25*sqrt(5))*e_1^e_2 - 0.5*e_1^e_3 + (-0.25*sqrt(5) - 0.25)*e_2^e_3 generator path is  321321321323\n",
            "(-0.25 + 0.25*sqrt(5))*e_1^e_2 + 0.5*e_1^e_3 + (0.25 + 0.25*sqrt(5))*e_2^e_3 generator path is  321321323123\n",
            "208 14\n",
            "----------------\n",
            "(-0.25 + 0.25*sqrt(5))*e_2 - 0.5*e_3 + (0.25 + 0.25*sqrt(5))*e_1^e_2^e_3 generator path is  1213213213213\n",
            "(0.25 - 0.25*sqrt(5))*e_2 + 0.5*e_3 + (-0.25*sqrt(5) - 0.25)*e_1^e_2^e_3 generator path is  1213213213231\n",
            "(0.25 - 0.25*sqrt(5))*e_2 + 0.5*e_3 + (0.25 + 0.25*sqrt(5))*e_1^e_2^e_3 generator path is  1232132132132\n",
            "(-0.25 + 0.25*sqrt(5))*e_2 - 0.5*e_3 + (-0.25*sqrt(5) - 0.25)*e_1^e_2^e_3 generator path is  1232132132312\n",
            "(-0.25 + 0.25*sqrt(5))*e_1 + (-0.25*sqrt(5) - 0.25)*e_3 + 0.5*e_1^e_2^e_3 generator path is  1321321321323\n",
            "(0.25 - 0.25*sqrt(5))*e_1 + (0.25 + 0.25*sqrt(5))*e_3 - 0.5*e_1^e_2^e_3 generator path is  1321321323123\n",
            "-1.0*e_3 generator path is  2132132132132\n",
            "1.0*e_3 generator path is  2132132132312\n",
            "(0.25 - 0.25*sqrt(5))*e_1 + (0.25 + 0.25*sqrt(5))*e_3 + 0.5*e_1^e_2^e_3 generator path is  2321321321323\n",
            "(-0.25 + 0.25*sqrt(5))*e_1 + (-0.25*sqrt(5) - 0.25)*e_3 - 0.5*e_1^e_2^e_3 generator path is  2321321323123\n",
            "222 10\n",
            "----------------\n",
            "-1.0*e_2^e_3 generator path is  12132132132132\n",
            "1.0*e_2^e_3 generator path is  12132132132312\n",
            "(-0.25 + 0.25*sqrt(5))*e_1^e_2 - 0.5*e_1^e_3 + (0.25 + 0.25*sqrt(5))*e_2^e_3 generator path is  12321321321323\n",
            "(0.25 - 0.25*sqrt(5))*e_1^e_2 + 0.5*e_1^e_3 + (-0.25*sqrt(5) - 0.25)*e_2^e_3 generator path is  12321321323123\n",
            "1.0*e_1^e_3 generator path is  21321321321323\n",
            "-1.0*e_1^e_3 generator path is  21321321323123\n",
            "232 6\n",
            "----------------\n",
            "-1.0*e_1^e_2^e_3 generator path is  121321321321323\n",
            "1.0*e_1^e_2^e_3 generator path is  121321321323123\n",
            "238 2\n",
            "----------------\n",
            "There are  240  elements in total.\n"
          ]
        }
      ],
      "source": [
        "tau=1/2*(1+sympy.sqrt(5))\n",
        "\n",
        "a1, a2, a3 = e2, 1/2*(-tau*e1-e2-(tau-1)*e3), e1\n",
        "\n",
        "Pin_H3_elts, Pin_H3_paths = closure_of_generators_words([a1, a2, a3])"
      ]
    },
    {
      "cell_type": "code",
      "execution_count": 14,
      "metadata": {
        "id": "aj7kTUiA4XRF"
      },
      "outputs": [],
      "source": []
    },
    {
      "cell_type": "markdown",
      "metadata": {
        "id": "1jXESJhH4XRF"
      },
      "source": [
        "# Calculate conjugacy classes"
      ]
    },
    {
      "cell_type": "code",
      "execution_count": 15,
      "metadata": {
        "colab": {
          "base_uri": "https://localhost:8080/",
          "height": 401
        },
        "id": "XdlNpxUC4XRF",
        "outputId": "0ca0c9b6-c657-4728-92cc-f00f9fb519ed"
      },
      "outputs": [
        {
          "output_type": "stream",
          "name": "stdout",
          "text": [
            "inverses found\n",
            "220\n",
            "208\n",
            "196\n"
          ]
        },
        {
          "output_type": "error",
          "ename": "KeyboardInterrupt",
          "evalue": "ignored",
          "traceback": [
            "\u001b[0;31m---------------------------------------------------------------------------\u001b[0m",
            "\u001b[0;31mKeyboardInterrupt\u001b[0m                         Traceback (most recent call last)",
            "\u001b[0;32m<ipython-input-15-88d104731293>\u001b[0m in \u001b[0;36m<cell line: 1>\u001b[0;34m()\u001b[0m\n\u001b[0;32m----> 1\u001b[0;31m \u001b[0mpin_CC_H3\u001b[0m \u001b[0;34m=\u001b[0m \u001b[0mconjugacy_classes_quicker\u001b[0m\u001b[0;34m(\u001b[0m\u001b[0mPin_H3_elts\u001b[0m\u001b[0;34m)\u001b[0m\u001b[0;34m\u001b[0m\u001b[0;34m\u001b[0m\u001b[0m\n\u001b[0m",
            "\u001b[0;32m<ipython-input-13-b0f8c508d81a>\u001b[0m in \u001b[0;36mconjugacy_classes_quicker\u001b[0;34m(elts)\u001b[0m\n\u001b[1;32m     14\u001b[0m                 \u001b[0;32mfor\u001b[0m \u001b[0mk\u001b[0m \u001b[0;32min\u001b[0m \u001b[0mrange\u001b[0m\u001b[0;34m(\u001b[0m\u001b[0mlen\u001b[0m\u001b[0;34m(\u001b[0m\u001b[0melts\u001b[0m\u001b[0;34m)\u001b[0m\u001b[0;34m)\u001b[0m\u001b[0;34m:\u001b[0m\u001b[0;34m\u001b[0m\u001b[0;34m\u001b[0m\u001b[0m\n\u001b[1;32m     15\u001b[0m                     \u001b[0;32mif\u001b[0m \u001b[0mk\u001b[0m \u001b[0;32min\u001b[0m \u001b[0mleftover\u001b[0m\u001b[0;34m:\u001b[0m\u001b[0;34m\u001b[0m\u001b[0;34m\u001b[0m\u001b[0m\n\u001b[0;32m---> 16\u001b[0;31m                         \u001b[0;32mif\u001b[0m \u001b[0mtmp\u001b[0m \u001b[0;34m==\u001b[0m \u001b[0melts\u001b[0m\u001b[0;34m[\u001b[0m\u001b[0mk\u001b[0m\u001b[0;34m]\u001b[0m\u001b[0;34m:\u001b[0m\u001b[0;34m\u001b[0m\u001b[0;34m\u001b[0m\u001b[0m\n\u001b[0m\u001b[1;32m     17\u001b[0m                             \u001b[0mnewclass\u001b[0m\u001b[0;34m.\u001b[0m\u001b[0madd\u001b[0m\u001b[0;34m(\u001b[0m\u001b[0mk\u001b[0m\u001b[0;34m)\u001b[0m\u001b[0;34m\u001b[0m\u001b[0;34m\u001b[0m\u001b[0m\n\u001b[1;32m     18\u001b[0m                             \u001b[0mleftover\u001b[0m \u001b[0;34m=\u001b[0m \u001b[0mleftover\u001b[0m\u001b[0;34m.\u001b[0m\u001b[0mdifference\u001b[0m\u001b[0;34m(\u001b[0m\u001b[0;34m[\u001b[0m\u001b[0mk\u001b[0m\u001b[0;34m]\u001b[0m\u001b[0;34m)\u001b[0m\u001b[0;34m\u001b[0m\u001b[0;34m\u001b[0m\u001b[0m\n",
            "\u001b[0;32m/usr/local/lib/python3.10/dist-packages/galgebra/mv.py\u001b[0m in \u001b[0;36m__eq__\u001b[0;34m(self, A)\u001b[0m\n\u001b[1;32m    468\u001b[0m     \u001b[0;32mdef\u001b[0m \u001b[0m__eq__\u001b[0m\u001b[0;34m(\u001b[0m\u001b[0mself\u001b[0m\u001b[0;34m,\u001b[0m \u001b[0mA\u001b[0m\u001b[0;34m)\u001b[0m\u001b[0;34m:\u001b[0m\u001b[0;34m\u001b[0m\u001b[0;34m\u001b[0m\u001b[0m\n\u001b[1;32m    469\u001b[0m         \u001b[0;32mif\u001b[0m \u001b[0misinstance\u001b[0m\u001b[0;34m(\u001b[0m\u001b[0mA\u001b[0m\u001b[0;34m,\u001b[0m \u001b[0mMv\u001b[0m\u001b[0;34m)\u001b[0m\u001b[0;34m:\u001b[0m\u001b[0;34m\u001b[0m\u001b[0;34m\u001b[0m\u001b[0m\n\u001b[0;32m--> 470\u001b[0;31m             \u001b[0mdiff\u001b[0m \u001b[0;34m=\u001b[0m \u001b[0;34m(\u001b[0m\u001b[0mself\u001b[0m \u001b[0;34m-\u001b[0m \u001b[0mA\u001b[0m\u001b[0;34m)\u001b[0m\u001b[0;34m.\u001b[0m\u001b[0mexpand\u001b[0m\u001b[0;34m(\u001b[0m\u001b[0;34m)\u001b[0m\u001b[0;34m.\u001b[0m\u001b[0msimplify\u001b[0m\u001b[0;34m(\u001b[0m\u001b[0;34m)\u001b[0m\u001b[0;34m\u001b[0m\u001b[0;34m\u001b[0m\u001b[0m\n\u001b[0m\u001b[1;32m    471\u001b[0m             \u001b[0;31m# diff = (self - A).expand()\u001b[0m\u001b[0;34m\u001b[0m\u001b[0;34m\u001b[0m\u001b[0m\n\u001b[1;32m    472\u001b[0m             \u001b[0;32mreturn\u001b[0m \u001b[0mdiff\u001b[0m\u001b[0;34m.\u001b[0m\u001b[0mobj\u001b[0m \u001b[0;34m==\u001b[0m \u001b[0mS\u001b[0m\u001b[0;34m(\u001b[0m\u001b[0;36m0\u001b[0m\u001b[0;34m)\u001b[0m\u001b[0;34m\u001b[0m\u001b[0;34m\u001b[0m\u001b[0m\n",
            "\u001b[0;32m/usr/local/lib/python3.10/dist-packages/galgebra/mv.py\u001b[0m in \u001b[0;36msimplify\u001b[0;34m(self, modes)\u001b[0m\n\u001b[1;32m   1285\u001b[0m         \u001b[0;32mfor\u001b[0m \u001b[0mcoef\u001b[0m\u001b[0;34m,\u001b[0m \u001b[0mbase\u001b[0m \u001b[0;32min\u001b[0m \u001b[0mmetric\u001b[0m\u001b[0;34m.\u001b[0m\u001b[0mlinear_expand_terms\u001b[0m\u001b[0;34m(\u001b[0m\u001b[0mself\u001b[0m\u001b[0;34m.\u001b[0m\u001b[0mobj\u001b[0m\u001b[0;34m)\u001b[0m\u001b[0;34m:\u001b[0m\u001b[0;34m\u001b[0m\u001b[0;34m\u001b[0m\u001b[0m\n\u001b[1;32m   1286\u001b[0m             \u001b[0;32mfor\u001b[0m \u001b[0mmode\u001b[0m \u001b[0;32min\u001b[0m \u001b[0mmodes\u001b[0m\u001b[0;34m:\u001b[0m\u001b[0;34m\u001b[0m\u001b[0;34m\u001b[0m\u001b[0m\n\u001b[0;32m-> 1287\u001b[0;31m                 \u001b[0mcoef\u001b[0m \u001b[0;34m=\u001b[0m \u001b[0mmode\u001b[0m\u001b[0;34m(\u001b[0m\u001b[0mcoef\u001b[0m\u001b[0;34m)\u001b[0m\u001b[0;34m\u001b[0m\u001b[0;34m\u001b[0m\u001b[0m\n\u001b[0m\u001b[1;32m   1288\u001b[0m             \u001b[0mobj\u001b[0m \u001b[0;34m+=\u001b[0m \u001b[0mcoef\u001b[0m \u001b[0;34m*\u001b[0m \u001b[0mbase\u001b[0m\u001b[0;34m\u001b[0m\u001b[0;34m\u001b[0m\u001b[0m\n\u001b[1;32m   1289\u001b[0m         \u001b[0;32mreturn\u001b[0m \u001b[0mMv\u001b[0m\u001b[0;34m(\u001b[0m\u001b[0mobj\u001b[0m\u001b[0;34m,\u001b[0m \u001b[0mga\u001b[0m\u001b[0;34m=\u001b[0m\u001b[0mself\u001b[0m\u001b[0;34m.\u001b[0m\u001b[0mGa\u001b[0m\u001b[0;34m)\u001b[0m\u001b[0;34m\u001b[0m\u001b[0;34m\u001b[0m\u001b[0m\n",
            "\u001b[0;32m/usr/local/lib/python3.10/dist-packages/sympy/simplify/simplify.py\u001b[0m in \u001b[0;36msimplify\u001b[0;34m(expr, ratio, measure, rational, inverse, doit, **kwargs)\u001b[0m\n\u001b[1;32m    723\u001b[0m         \u001b[0mexpr\u001b[0m \u001b[0;34m=\u001b[0m \u001b[0mquantity_simplify\u001b[0m\u001b[0;34m(\u001b[0m\u001b[0mexpr\u001b[0m\u001b[0;34m)\u001b[0m\u001b[0;34m\u001b[0m\u001b[0;34m\u001b[0m\u001b[0m\n\u001b[1;32m    724\u001b[0m \u001b[0;34m\u001b[0m\u001b[0m\n\u001b[0;32m--> 725\u001b[0;31m     \u001b[0mshort\u001b[0m \u001b[0;34m=\u001b[0m \u001b[0mshorter\u001b[0m\u001b[0;34m(\u001b[0m\u001b[0mpowsimp\u001b[0m\u001b[0;34m(\u001b[0m\u001b[0mexpr\u001b[0m\u001b[0;34m,\u001b[0m \u001b[0mcombine\u001b[0m\u001b[0;34m=\u001b[0m\u001b[0;34m'exp'\u001b[0m\u001b[0;34m,\u001b[0m \u001b[0mdeep\u001b[0m\u001b[0;34m=\u001b[0m\u001b[0;32mTrue\u001b[0m\u001b[0;34m)\u001b[0m\u001b[0;34m,\u001b[0m \u001b[0mpowsimp\u001b[0m\u001b[0;34m(\u001b[0m\u001b[0mexpr\u001b[0m\u001b[0;34m)\u001b[0m\u001b[0;34m,\u001b[0m \u001b[0mexpr\u001b[0m\u001b[0;34m)\u001b[0m\u001b[0;34m\u001b[0m\u001b[0;34m\u001b[0m\u001b[0m\n\u001b[0m\u001b[1;32m    726\u001b[0m     \u001b[0mshort\u001b[0m \u001b[0;34m=\u001b[0m \u001b[0mshorter\u001b[0m\u001b[0;34m(\u001b[0m\u001b[0mshort\u001b[0m\u001b[0;34m,\u001b[0m \u001b[0mcancel\u001b[0m\u001b[0;34m(\u001b[0m\u001b[0mshort\u001b[0m\u001b[0;34m)\u001b[0m\u001b[0;34m)\u001b[0m\u001b[0;34m\u001b[0m\u001b[0;34m\u001b[0m\u001b[0m\n\u001b[1;32m    727\u001b[0m     \u001b[0mshort\u001b[0m \u001b[0;34m=\u001b[0m \u001b[0mshorter\u001b[0m\u001b[0;34m(\u001b[0m\u001b[0mshort\u001b[0m\u001b[0;34m,\u001b[0m \u001b[0mfactor_terms\u001b[0m\u001b[0;34m(\u001b[0m\u001b[0mshort\u001b[0m\u001b[0;34m)\u001b[0m\u001b[0;34m,\u001b[0m \u001b[0mexpand_power_exp\u001b[0m\u001b[0;34m(\u001b[0m\u001b[0mexpand_mul\u001b[0m\u001b[0;34m(\u001b[0m\u001b[0mshort\u001b[0m\u001b[0;34m)\u001b[0m\u001b[0;34m)\u001b[0m\u001b[0;34m)\u001b[0m\u001b[0;34m\u001b[0m\u001b[0;34m\u001b[0m\u001b[0m\n",
            "\u001b[0;32m/usr/local/lib/python3.10/dist-packages/sympy/simplify/powsimp.py\u001b[0m in \u001b[0;36mpowsimp\u001b[0;34m(expr, deep, combine, force, measure)\u001b[0m\n\u001b[1;32m    115\u001b[0m \u001b[0;34m\u001b[0m\u001b[0m\n\u001b[1;32m    116\u001b[0m     \u001b[0;32mif\u001b[0m \u001b[0mdeep\u001b[0m \u001b[0;32mor\u001b[0m \u001b[0mexpr\u001b[0m\u001b[0;34m.\u001b[0m\u001b[0mis_Add\u001b[0m \u001b[0;32mor\u001b[0m \u001b[0mexpr\u001b[0m\u001b[0;34m.\u001b[0m\u001b[0mis_Mul\u001b[0m \u001b[0;32mand\u001b[0m \u001b[0m_y\u001b[0m \u001b[0;32mnot\u001b[0m \u001b[0;32min\u001b[0m \u001b[0mexpr\u001b[0m\u001b[0;34m.\u001b[0m\u001b[0margs\u001b[0m\u001b[0;34m:\u001b[0m\u001b[0;34m\u001b[0m\u001b[0;34m\u001b[0m\u001b[0m\n\u001b[0;32m--> 117\u001b[0;31m         \u001b[0mexpr\u001b[0m \u001b[0;34m=\u001b[0m \u001b[0mexpr\u001b[0m\u001b[0;34m.\u001b[0m\u001b[0mfunc\u001b[0m\u001b[0;34m(\u001b[0m\u001b[0;34m*\u001b[0m\u001b[0;34m[\u001b[0m\u001b[0mrecurse\u001b[0m\u001b[0;34m(\u001b[0m\u001b[0mw\u001b[0m\u001b[0;34m)\u001b[0m \u001b[0;32mfor\u001b[0m \u001b[0mw\u001b[0m \u001b[0;32min\u001b[0m \u001b[0mexpr\u001b[0m\u001b[0;34m.\u001b[0m\u001b[0margs\u001b[0m\u001b[0;34m]\u001b[0m\u001b[0;34m)\u001b[0m\u001b[0;34m\u001b[0m\u001b[0;34m\u001b[0m\u001b[0m\n\u001b[0m\u001b[1;32m    118\u001b[0m \u001b[0;34m\u001b[0m\u001b[0m\n\u001b[1;32m    119\u001b[0m     \u001b[0;32mif\u001b[0m \u001b[0mexpr\u001b[0m\u001b[0;34m.\u001b[0m\u001b[0mis_Pow\u001b[0m\u001b[0;34m:\u001b[0m\u001b[0;34m\u001b[0m\u001b[0;34m\u001b[0m\u001b[0m\n",
            "\u001b[0;32m/usr/local/lib/python3.10/dist-packages/sympy/simplify/powsimp.py\u001b[0m in \u001b[0;36m<listcomp>\u001b[0;34m(.0)\u001b[0m\n\u001b[1;32m    115\u001b[0m \u001b[0;34m\u001b[0m\u001b[0m\n\u001b[1;32m    116\u001b[0m     \u001b[0;32mif\u001b[0m \u001b[0mdeep\u001b[0m \u001b[0;32mor\u001b[0m \u001b[0mexpr\u001b[0m\u001b[0;34m.\u001b[0m\u001b[0mis_Add\u001b[0m \u001b[0;32mor\u001b[0m \u001b[0mexpr\u001b[0m\u001b[0;34m.\u001b[0m\u001b[0mis_Mul\u001b[0m \u001b[0;32mand\u001b[0m \u001b[0m_y\u001b[0m \u001b[0;32mnot\u001b[0m \u001b[0;32min\u001b[0m \u001b[0mexpr\u001b[0m\u001b[0;34m.\u001b[0m\u001b[0margs\u001b[0m\u001b[0;34m:\u001b[0m\u001b[0;34m\u001b[0m\u001b[0;34m\u001b[0m\u001b[0m\n\u001b[0;32m--> 117\u001b[0;31m         \u001b[0mexpr\u001b[0m \u001b[0;34m=\u001b[0m \u001b[0mexpr\u001b[0m\u001b[0;34m.\u001b[0m\u001b[0mfunc\u001b[0m\u001b[0;34m(\u001b[0m\u001b[0;34m*\u001b[0m\u001b[0;34m[\u001b[0m\u001b[0mrecurse\u001b[0m\u001b[0;34m(\u001b[0m\u001b[0mw\u001b[0m\u001b[0;34m)\u001b[0m \u001b[0;32mfor\u001b[0m \u001b[0mw\u001b[0m \u001b[0;32min\u001b[0m \u001b[0mexpr\u001b[0m\u001b[0;34m.\u001b[0m\u001b[0margs\u001b[0m\u001b[0;34m]\u001b[0m\u001b[0;34m)\u001b[0m\u001b[0;34m\u001b[0m\u001b[0;34m\u001b[0m\u001b[0m\n\u001b[0m\u001b[1;32m    118\u001b[0m \u001b[0;34m\u001b[0m\u001b[0m\n\u001b[1;32m    119\u001b[0m     \u001b[0;32mif\u001b[0m \u001b[0mexpr\u001b[0m\u001b[0;34m.\u001b[0m\u001b[0mis_Pow\u001b[0m\u001b[0;34m:\u001b[0m\u001b[0;34m\u001b[0m\u001b[0;34m\u001b[0m\u001b[0m\n",
            "\u001b[0;32m/usr/local/lib/python3.10/dist-packages/sympy/simplify/powsimp.py\u001b[0m in \u001b[0;36mrecurse\u001b[0;34m(arg, **kwargs)\u001b[0m\n\u001b[1;32m    106\u001b[0m         \u001b[0m_force\u001b[0m \u001b[0;34m=\u001b[0m \u001b[0mkwargs\u001b[0m\u001b[0;34m.\u001b[0m\u001b[0mget\u001b[0m\u001b[0;34m(\u001b[0m\u001b[0;34m'force'\u001b[0m\u001b[0;34m,\u001b[0m \u001b[0mforce\u001b[0m\u001b[0;34m)\u001b[0m\u001b[0;34m\u001b[0m\u001b[0;34m\u001b[0m\u001b[0m\n\u001b[1;32m    107\u001b[0m         \u001b[0m_measure\u001b[0m \u001b[0;34m=\u001b[0m \u001b[0mkwargs\u001b[0m\u001b[0;34m.\u001b[0m\u001b[0mget\u001b[0m\u001b[0;34m(\u001b[0m\u001b[0;34m'measure'\u001b[0m\u001b[0;34m,\u001b[0m \u001b[0mmeasure\u001b[0m\u001b[0;34m)\u001b[0m\u001b[0;34m\u001b[0m\u001b[0;34m\u001b[0m\u001b[0m\n\u001b[0;32m--> 108\u001b[0;31m         \u001b[0;32mreturn\u001b[0m \u001b[0mpowsimp\u001b[0m\u001b[0;34m(\u001b[0m\u001b[0marg\u001b[0m\u001b[0;34m,\u001b[0m \u001b[0m_deep\u001b[0m\u001b[0;34m,\u001b[0m \u001b[0m_combine\u001b[0m\u001b[0;34m,\u001b[0m \u001b[0m_force\u001b[0m\u001b[0;34m,\u001b[0m \u001b[0m_measure\u001b[0m\u001b[0;34m)\u001b[0m\u001b[0;34m\u001b[0m\u001b[0;34m\u001b[0m\u001b[0m\n\u001b[0m\u001b[1;32m    109\u001b[0m \u001b[0;34m\u001b[0m\u001b[0m\n\u001b[1;32m    110\u001b[0m     \u001b[0mexpr\u001b[0m \u001b[0;34m=\u001b[0m \u001b[0msympify\u001b[0m\u001b[0;34m(\u001b[0m\u001b[0mexpr\u001b[0m\u001b[0;34m)\u001b[0m\u001b[0;34m\u001b[0m\u001b[0;34m\u001b[0m\u001b[0m\n",
            "\u001b[0;32m/usr/local/lib/python3.10/dist-packages/sympy/simplify/powsimp.py\u001b[0m in \u001b[0;36mpowsimp\u001b[0;34m(expr, deep, combine, force, measure)\u001b[0m\n\u001b[1;32m    115\u001b[0m \u001b[0;34m\u001b[0m\u001b[0m\n\u001b[1;32m    116\u001b[0m     \u001b[0;32mif\u001b[0m \u001b[0mdeep\u001b[0m \u001b[0;32mor\u001b[0m \u001b[0mexpr\u001b[0m\u001b[0;34m.\u001b[0m\u001b[0mis_Add\u001b[0m \u001b[0;32mor\u001b[0m \u001b[0mexpr\u001b[0m\u001b[0;34m.\u001b[0m\u001b[0mis_Mul\u001b[0m \u001b[0;32mand\u001b[0m \u001b[0m_y\u001b[0m \u001b[0;32mnot\u001b[0m \u001b[0;32min\u001b[0m \u001b[0mexpr\u001b[0m\u001b[0;34m.\u001b[0m\u001b[0margs\u001b[0m\u001b[0;34m:\u001b[0m\u001b[0;34m\u001b[0m\u001b[0;34m\u001b[0m\u001b[0m\n\u001b[0;32m--> 117\u001b[0;31m         \u001b[0mexpr\u001b[0m \u001b[0;34m=\u001b[0m \u001b[0mexpr\u001b[0m\u001b[0;34m.\u001b[0m\u001b[0mfunc\u001b[0m\u001b[0;34m(\u001b[0m\u001b[0;34m*\u001b[0m\u001b[0;34m[\u001b[0m\u001b[0mrecurse\u001b[0m\u001b[0;34m(\u001b[0m\u001b[0mw\u001b[0m\u001b[0;34m)\u001b[0m \u001b[0;32mfor\u001b[0m \u001b[0mw\u001b[0m \u001b[0;32min\u001b[0m \u001b[0mexpr\u001b[0m\u001b[0;34m.\u001b[0m\u001b[0margs\u001b[0m\u001b[0;34m]\u001b[0m\u001b[0;34m)\u001b[0m\u001b[0;34m\u001b[0m\u001b[0;34m\u001b[0m\u001b[0m\n\u001b[0m\u001b[1;32m    118\u001b[0m \u001b[0;34m\u001b[0m\u001b[0m\n\u001b[1;32m    119\u001b[0m     \u001b[0;32mif\u001b[0m \u001b[0mexpr\u001b[0m\u001b[0;34m.\u001b[0m\u001b[0mis_Pow\u001b[0m\u001b[0;34m:\u001b[0m\u001b[0;34m\u001b[0m\u001b[0;34m\u001b[0m\u001b[0m\n",
            "\u001b[0;32m/usr/local/lib/python3.10/dist-packages/sympy/simplify/powsimp.py\u001b[0m in \u001b[0;36m<listcomp>\u001b[0;34m(.0)\u001b[0m\n\u001b[1;32m    115\u001b[0m \u001b[0;34m\u001b[0m\u001b[0m\n\u001b[1;32m    116\u001b[0m     \u001b[0;32mif\u001b[0m \u001b[0mdeep\u001b[0m \u001b[0;32mor\u001b[0m \u001b[0mexpr\u001b[0m\u001b[0;34m.\u001b[0m\u001b[0mis_Add\u001b[0m \u001b[0;32mor\u001b[0m \u001b[0mexpr\u001b[0m\u001b[0;34m.\u001b[0m\u001b[0mis_Mul\u001b[0m \u001b[0;32mand\u001b[0m \u001b[0m_y\u001b[0m \u001b[0;32mnot\u001b[0m \u001b[0;32min\u001b[0m \u001b[0mexpr\u001b[0m\u001b[0;34m.\u001b[0m\u001b[0margs\u001b[0m\u001b[0;34m:\u001b[0m\u001b[0;34m\u001b[0m\u001b[0;34m\u001b[0m\u001b[0m\n\u001b[0;32m--> 117\u001b[0;31m         \u001b[0mexpr\u001b[0m \u001b[0;34m=\u001b[0m \u001b[0mexpr\u001b[0m\u001b[0;34m.\u001b[0m\u001b[0mfunc\u001b[0m\u001b[0;34m(\u001b[0m\u001b[0;34m*\u001b[0m\u001b[0;34m[\u001b[0m\u001b[0mrecurse\u001b[0m\u001b[0;34m(\u001b[0m\u001b[0mw\u001b[0m\u001b[0;34m)\u001b[0m \u001b[0;32mfor\u001b[0m \u001b[0mw\u001b[0m \u001b[0;32min\u001b[0m \u001b[0mexpr\u001b[0m\u001b[0;34m.\u001b[0m\u001b[0margs\u001b[0m\u001b[0;34m]\u001b[0m\u001b[0;34m)\u001b[0m\u001b[0;34m\u001b[0m\u001b[0;34m\u001b[0m\u001b[0m\n\u001b[0m\u001b[1;32m    118\u001b[0m \u001b[0;34m\u001b[0m\u001b[0m\n\u001b[1;32m    119\u001b[0m     \u001b[0;32mif\u001b[0m \u001b[0mexpr\u001b[0m\u001b[0;34m.\u001b[0m\u001b[0mis_Pow\u001b[0m\u001b[0;34m:\u001b[0m\u001b[0;34m\u001b[0m\u001b[0;34m\u001b[0m\u001b[0m\n",
            "\u001b[0;32m/usr/local/lib/python3.10/dist-packages/sympy/simplify/powsimp.py\u001b[0m in \u001b[0;36mrecurse\u001b[0;34m(arg, **kwargs)\u001b[0m\n\u001b[1;32m    106\u001b[0m         \u001b[0m_force\u001b[0m \u001b[0;34m=\u001b[0m \u001b[0mkwargs\u001b[0m\u001b[0;34m.\u001b[0m\u001b[0mget\u001b[0m\u001b[0;34m(\u001b[0m\u001b[0;34m'force'\u001b[0m\u001b[0;34m,\u001b[0m \u001b[0mforce\u001b[0m\u001b[0;34m)\u001b[0m\u001b[0;34m\u001b[0m\u001b[0;34m\u001b[0m\u001b[0m\n\u001b[1;32m    107\u001b[0m         \u001b[0m_measure\u001b[0m \u001b[0;34m=\u001b[0m \u001b[0mkwargs\u001b[0m\u001b[0;34m.\u001b[0m\u001b[0mget\u001b[0m\u001b[0;34m(\u001b[0m\u001b[0;34m'measure'\u001b[0m\u001b[0;34m,\u001b[0m \u001b[0mmeasure\u001b[0m\u001b[0;34m)\u001b[0m\u001b[0;34m\u001b[0m\u001b[0;34m\u001b[0m\u001b[0m\n\u001b[0;32m--> 108\u001b[0;31m         \u001b[0;32mreturn\u001b[0m \u001b[0mpowsimp\u001b[0m\u001b[0;34m(\u001b[0m\u001b[0marg\u001b[0m\u001b[0;34m,\u001b[0m \u001b[0m_deep\u001b[0m\u001b[0;34m,\u001b[0m \u001b[0m_combine\u001b[0m\u001b[0;34m,\u001b[0m \u001b[0m_force\u001b[0m\u001b[0;34m,\u001b[0m \u001b[0m_measure\u001b[0m\u001b[0;34m)\u001b[0m\u001b[0;34m\u001b[0m\u001b[0;34m\u001b[0m\u001b[0m\n\u001b[0m\u001b[1;32m    109\u001b[0m \u001b[0;34m\u001b[0m\u001b[0m\n\u001b[1;32m    110\u001b[0m     \u001b[0mexpr\u001b[0m \u001b[0;34m=\u001b[0m \u001b[0msympify\u001b[0m\u001b[0;34m(\u001b[0m\u001b[0mexpr\u001b[0m\u001b[0;34m)\u001b[0m\u001b[0;34m\u001b[0m\u001b[0;34m\u001b[0m\u001b[0m\n",
            "\u001b[0;32m/usr/local/lib/python3.10/dist-packages/sympy/simplify/powsimp.py\u001b[0m in \u001b[0;36mpowsimp\u001b[0;34m(expr, deep, combine, force, measure)\u001b[0m\n\u001b[1;32m    118\u001b[0m \u001b[0;34m\u001b[0m\u001b[0m\n\u001b[1;32m    119\u001b[0m     \u001b[0;32mif\u001b[0m \u001b[0mexpr\u001b[0m\u001b[0;34m.\u001b[0m\u001b[0mis_Pow\u001b[0m\u001b[0;34m:\u001b[0m\u001b[0;34m\u001b[0m\u001b[0;34m\u001b[0m\u001b[0m\n\u001b[0;32m--> 120\u001b[0;31m         \u001b[0;32mreturn\u001b[0m \u001b[0mrecurse\u001b[0m\u001b[0;34m(\u001b[0m\u001b[0mexpr\u001b[0m\u001b[0;34m*\u001b[0m\u001b[0m_y\u001b[0m\u001b[0;34m,\u001b[0m \u001b[0mdeep\u001b[0m\u001b[0;34m=\u001b[0m\u001b[0;32mFalse\u001b[0m\u001b[0;34m)\u001b[0m\u001b[0;34m/\u001b[0m\u001b[0m_y\u001b[0m\u001b[0;34m\u001b[0m\u001b[0;34m\u001b[0m\u001b[0m\n\u001b[0m\u001b[1;32m    121\u001b[0m \u001b[0;34m\u001b[0m\u001b[0m\n\u001b[1;32m    122\u001b[0m     \u001b[0;32mif\u001b[0m \u001b[0;32mnot\u001b[0m \u001b[0mexpr\u001b[0m\u001b[0;34m.\u001b[0m\u001b[0mis_Mul\u001b[0m\u001b[0;34m:\u001b[0m\u001b[0;34m\u001b[0m\u001b[0;34m\u001b[0m\u001b[0m\n",
            "\u001b[0;32m/usr/local/lib/python3.10/dist-packages/sympy/simplify/powsimp.py\u001b[0m in \u001b[0;36mrecurse\u001b[0;34m(arg, **kwargs)\u001b[0m\n\u001b[1;32m    106\u001b[0m         \u001b[0m_force\u001b[0m \u001b[0;34m=\u001b[0m \u001b[0mkwargs\u001b[0m\u001b[0;34m.\u001b[0m\u001b[0mget\u001b[0m\u001b[0;34m(\u001b[0m\u001b[0;34m'force'\u001b[0m\u001b[0;34m,\u001b[0m \u001b[0mforce\u001b[0m\u001b[0;34m)\u001b[0m\u001b[0;34m\u001b[0m\u001b[0;34m\u001b[0m\u001b[0m\n\u001b[1;32m    107\u001b[0m         \u001b[0m_measure\u001b[0m \u001b[0;34m=\u001b[0m \u001b[0mkwargs\u001b[0m\u001b[0;34m.\u001b[0m\u001b[0mget\u001b[0m\u001b[0;34m(\u001b[0m\u001b[0;34m'measure'\u001b[0m\u001b[0;34m,\u001b[0m \u001b[0mmeasure\u001b[0m\u001b[0;34m)\u001b[0m\u001b[0;34m\u001b[0m\u001b[0;34m\u001b[0m\u001b[0m\n\u001b[0;32m--> 108\u001b[0;31m         \u001b[0;32mreturn\u001b[0m \u001b[0mpowsimp\u001b[0m\u001b[0;34m(\u001b[0m\u001b[0marg\u001b[0m\u001b[0;34m,\u001b[0m \u001b[0m_deep\u001b[0m\u001b[0;34m,\u001b[0m \u001b[0m_combine\u001b[0m\u001b[0;34m,\u001b[0m \u001b[0m_force\u001b[0m\u001b[0;34m,\u001b[0m \u001b[0m_measure\u001b[0m\u001b[0;34m)\u001b[0m\u001b[0;34m\u001b[0m\u001b[0;34m\u001b[0m\u001b[0m\n\u001b[0m\u001b[1;32m    109\u001b[0m \u001b[0;34m\u001b[0m\u001b[0m\n\u001b[1;32m    110\u001b[0m     \u001b[0mexpr\u001b[0m \u001b[0;34m=\u001b[0m \u001b[0msympify\u001b[0m\u001b[0;34m(\u001b[0m\u001b[0mexpr\u001b[0m\u001b[0;34m)\u001b[0m\u001b[0;34m\u001b[0m\u001b[0;34m\u001b[0m\u001b[0m\n",
            "\u001b[0;32m/usr/local/lib/python3.10/dist-packages/sympy/simplify/powsimp.py\u001b[0m in \u001b[0;36mpowsimp\u001b[0;34m(expr, deep, combine, force, measure)\u001b[0m\n\u001b[1;32m    159\u001b[0m \u001b[0;34m\u001b[0m\u001b[0m\n\u001b[1;32m    160\u001b[0m         \u001b[0;31m# add up exponents of common bases\u001b[0m\u001b[0;34m\u001b[0m\u001b[0;34m\u001b[0m\u001b[0m\n\u001b[0;32m--> 161\u001b[0;31m         \u001b[0;32mfor\u001b[0m \u001b[0mb\u001b[0m\u001b[0;34m,\u001b[0m \u001b[0me\u001b[0m \u001b[0;32min\u001b[0m \u001b[0mordered\u001b[0m\u001b[0;34m(\u001b[0m\u001b[0miter\u001b[0m\u001b[0;34m(\u001b[0m\u001b[0mc_powers\u001b[0m\u001b[0;34m.\u001b[0m\u001b[0mitems\u001b[0m\u001b[0;34m(\u001b[0m\u001b[0;34m)\u001b[0m\u001b[0;34m)\u001b[0m\u001b[0;34m)\u001b[0m\u001b[0;34m:\u001b[0m\u001b[0;34m\u001b[0m\u001b[0;34m\u001b[0m\u001b[0m\n\u001b[0m\u001b[1;32m    162\u001b[0m             \u001b[0;31m# allow 2**x/4 -> 2**(x - 2); don't do this when b and e are\u001b[0m\u001b[0;34m\u001b[0m\u001b[0;34m\u001b[0m\u001b[0m\n\u001b[1;32m    163\u001b[0m             \u001b[0;31m# Numbers since autoevaluation will undo it, e.g.\u001b[0m\u001b[0;34m\u001b[0m\u001b[0;34m\u001b[0m\u001b[0m\n",
            "\u001b[0;32m/usr/local/lib/python3.10/dist-packages/sympy/core/sorting.py\u001b[0m in \u001b[0;36mordered\u001b[0;34m(seq, keys, default, warn)\u001b[0m\n\u001b[1;32m    307\u001b[0m                     raise ValueError(\n\u001b[1;32m    308\u001b[0m                         'not enough keys to break ties: %s' % u)\n\u001b[0;32m--> 309\u001b[0;31m         \u001b[0;32myield\u001b[0m \u001b[0;32mfrom\u001b[0m \u001b[0mvalue\u001b[0m\u001b[0;34m\u001b[0m\u001b[0;34m\u001b[0m\u001b[0m\n\u001b[0m",
            "\u001b[0;32m/usr/local/lib/python3.10/dist-packages/sympy/core/sorting.py\u001b[0m in \u001b[0;36mordered\u001b[0;34m(seq, keys, default, warn)\u001b[0m\n\u001b[1;32m    307\u001b[0m                     raise ValueError(\n\u001b[1;32m    308\u001b[0m                         'not enough keys to break ties: %s' % u)\n\u001b[0;32m--> 309\u001b[0;31m         \u001b[0;32myield\u001b[0m \u001b[0;32mfrom\u001b[0m \u001b[0mvalue\u001b[0m\u001b[0;34m\u001b[0m\u001b[0;34m\u001b[0m\u001b[0m\n\u001b[0m",
            "\u001b[0;32m/usr/local/lib/python3.10/dist-packages/sympy/core/sorting.py\u001b[0m in \u001b[0;36mordered\u001b[0;34m(seq, keys, default, warn)\u001b[0m\n\u001b[1;32m    289\u001b[0m             \u001b[0mkeys\u001b[0m \u001b[0;34m=\u001b[0m \u001b[0;34m[\u001b[0m\u001b[0;34m]\u001b[0m\u001b[0;34m\u001b[0m\u001b[0;34m\u001b[0m\u001b[0m\n\u001b[1;32m    290\u001b[0m         \u001b[0;32mfor\u001b[0m \u001b[0ma\u001b[0m \u001b[0;32min\u001b[0m \u001b[0mseq\u001b[0m\u001b[0;34m:\u001b[0m\u001b[0;34m\u001b[0m\u001b[0;34m\u001b[0m\u001b[0m\n\u001b[0;32m--> 291\u001b[0;31m             \u001b[0md\u001b[0m\u001b[0;34m[\u001b[0m\u001b[0mf\u001b[0m\u001b[0;34m(\u001b[0m\u001b[0ma\u001b[0m\u001b[0;34m)\u001b[0m\u001b[0;34m]\u001b[0m\u001b[0;34m.\u001b[0m\u001b[0mappend\u001b[0m\u001b[0;34m(\u001b[0m\u001b[0ma\u001b[0m\u001b[0;34m)\u001b[0m\u001b[0;34m\u001b[0m\u001b[0;34m\u001b[0m\u001b[0m\n\u001b[0m\u001b[1;32m    292\u001b[0m     \u001b[0;32melse\u001b[0m\u001b[0;34m:\u001b[0m\u001b[0;34m\u001b[0m\u001b[0;34m\u001b[0m\u001b[0m\n\u001b[1;32m    293\u001b[0m         \u001b[0;32mif\u001b[0m \u001b[0;32mnot\u001b[0m \u001b[0mdefault\u001b[0m\u001b[0;34m:\u001b[0m\u001b[0;34m\u001b[0m\u001b[0;34m\u001b[0m\u001b[0m\n",
            "\u001b[0;32m/usr/local/lib/python3.10/dist-packages/sympy/core/numbers.py\u001b[0m in \u001b[0;36m__hash__\u001b[0;34m(self)\u001b[0m\n\u001b[1;32m   2287\u001b[0m         \u001b[0;32mreturn\u001b[0m \u001b[0mRational\u001b[0m\u001b[0;34m.\u001b[0m\u001b[0m__le__\u001b[0m\u001b[0;34m(\u001b[0m\u001b[0mself\u001b[0m\u001b[0;34m,\u001b[0m \u001b[0mother\u001b[0m\u001b[0;34m)\u001b[0m\u001b[0;34m\u001b[0m\u001b[0;34m\u001b[0m\u001b[0m\n\u001b[1;32m   2288\u001b[0m \u001b[0;34m\u001b[0m\u001b[0m\n\u001b[0;32m-> 2289\u001b[0;31m     \u001b[0;32mdef\u001b[0m \u001b[0m__hash__\u001b[0m\u001b[0;34m(\u001b[0m\u001b[0mself\u001b[0m\u001b[0;34m)\u001b[0m\u001b[0;34m:\u001b[0m\u001b[0;34m\u001b[0m\u001b[0;34m\u001b[0m\u001b[0m\n\u001b[0m\u001b[1;32m   2290\u001b[0m         \u001b[0;32mreturn\u001b[0m \u001b[0mhash\u001b[0m\u001b[0;34m(\u001b[0m\u001b[0mself\u001b[0m\u001b[0;34m.\u001b[0m\u001b[0mp\u001b[0m\u001b[0;34m)\u001b[0m\u001b[0;34m\u001b[0m\u001b[0;34m\u001b[0m\u001b[0m\n\u001b[1;32m   2291\u001b[0m \u001b[0;34m\u001b[0m\u001b[0m\n",
            "\u001b[0;31mKeyboardInterrupt\u001b[0m: "
          ]
        }
      ],
      "source": [
        "pin_CC_H3 = conjugacy_classes_quicker(Pin_H3_elts)"
      ]
    },
    {
      "cell_type": "code",
      "execution_count": null,
      "metadata": {
        "id": "Tg-IO88J4XRF"
      },
      "outputs": [],
      "source": [
        "for cclass in pin_CC_H3:\n",
        "    print(  '\\n  \\hline \\n')\n",
        "    for element in sorted(list(cclass)):\n",
        "        #print('$', order_of_element(Pin_H3_elts[element]),'$', '& ', '$',element+1,'$', '& $',  latex(2*Pin_H3_elts[element]), ' $ &', Pin_H3_paths[element], '\\\\\\\\')\n",
        "        print(order_of_element(Pin_H3_elts[element]),element+1,(2*Pin_H3_elts[element]),  Pin_H3_paths[element])\n"
      ]
    },
    {
      "cell_type": "markdown",
      "metadata": {
        "id": "niy8cNN24XRG"
      },
      "source": [
        "# Grand antiprism and snub 24-cell"
      ]
    },
    {
      "cell_type": "markdown",
      "metadata": {
        "id": "Aou-Jew64XRG"
      },
      "source": [
        "Use subrootsystems to split the 600-cell into two separately invariant polytopes. Explicitly verify they are stabilised."
      ]
    },
    {
      "cell_type": "code",
      "execution_count": 16,
      "metadata": {
        "colab": {
          "base_uri": "https://localhost:8080/"
        },
        "id": "m4wirUfY4XRG",
        "outputId": "4c549f7e-aaca-45fa-a7ff-6b206efa3172"
      },
      "outputs": [
        {
          "output_type": "stream",
          "name": "stdout",
          "text": [
            "2 4\n",
            "----------------\n",
            "6 8\n",
            "----------------\n",
            "14 12\n",
            "----------------\n",
            "26 15\n",
            "----------------\n",
            "41 18\n",
            "----------------\n",
            "59 19\n",
            "----------------\n",
            "78 19\n",
            "----------------\n",
            "97 15\n",
            "----------------\n",
            "112 8\n",
            "----------------\n",
            "There are  120  elements in total.\n"
          ]
        }
      ],
      "source": [
        "spin_group_H3 = closure_of_generators([a1*a2, a2*a3])"
      ]
    },
    {
      "cell_type": "code",
      "execution_count": 17,
      "metadata": {
        "id": "uRtBrMpA4XRG"
      },
      "outputs": [],
      "source": [
        "def closed_under_spin_reflections(points, group):\n",
        "    for u in points:\n",
        "        for n in group:\n",
        "            tmp = reflect_spinor(n, u)\n",
        "            if not tmp in points:\n",
        "                print('issue')\n",
        "                return False\n",
        "                break\n",
        "    return True"
      ]
    },
    {
      "cell_type": "markdown",
      "metadata": {
        "id": "d985ixmf4XRG"
      },
      "source": [
        "$A_2\\oplus A_2$ example"
      ]
    },
    {
      "cell_type": "code",
      "execution_count": 18,
      "metadata": {
        "colab": {
          "base_uri": "https://localhost:8080/"
        },
        "id": "C_qEPdbd4XRG",
        "outputId": "fd490fce-ee99-4c62-e2c6-0e5e8767dd95"
      },
      "outputs": [
        {
          "output_type": "stream",
          "name": "stdout",
          "text": [
            "4 6\n",
            "----------------\n",
            "10 2\n",
            "----------------\n",
            "This is a root system with  12  roots\n"
          ]
        }
      ],
      "source": [
        "A2A2 = closure_of_roots_in_spin([a1*a1, a1*a2, e1*e2*e3*a1, e1*e2*e3*a2])"
      ]
    },
    {
      "cell_type": "code",
      "execution_count": 19,
      "metadata": {
        "colab": {
          "base_uri": "https://localhost:8080/"
        },
        "id": "jJiii7Fc4XRG",
        "outputId": "e1bb452c-4776-4151-efcc-729bfc65a291"
      },
      "outputs": [
        {
          "output_type": "stream",
          "name": "stdout",
          "text": [
            "True\n",
            "True\n",
            "True\n",
            "True\n",
            "True\n",
            "True\n",
            "True\n",
            "True\n",
            "True\n",
            "True\n",
            "True\n",
            "True\n"
          ]
        }
      ],
      "source": [
        "for dec in A2A2:\n",
        "    print(dec in spin_group_H3)"
      ]
    },
    {
      "cell_type": "code",
      "execution_count": 20,
      "metadata": {
        "colab": {
          "base_uri": "https://localhost:8080/",
          "height": 37
        },
        "id": "lAyHz78p4XRG",
        "outputId": "6359164a-abf9-4290-eef5-f6399838c786"
      },
      "outputs": [
        {
          "output_type": "execute_result",
          "data": {
            "text/plain": [
              "108"
            ],
            "text/latex": "$\\displaystyle 108$"
          },
          "metadata": {},
          "execution_count": 20
        }
      ],
      "source": [
        "compA2A2 = []\n",
        "\n",
        "for elmt in spin_group_H3:\n",
        "    if not elmt  in A2A2:\n",
        "        compA2A2.append(elmt)\n",
        "len(compA2A2)"
      ]
    },
    {
      "cell_type": "code",
      "execution_count": 21,
      "metadata": {
        "colab": {
          "base_uri": "https://localhost:8080/"
        },
        "id": "pAIz4ORb4XRG",
        "outputId": "fb958ffa-c79e-4a9d-aa0d-82bfb1fa00f8"
      },
      "outputs": [
        {
          "output_type": "execute_result",
          "data": {
            "text/plain": [
              "True"
            ]
          },
          "metadata": {},
          "execution_count": 21
        }
      ],
      "source": [
        "A2A2stable = closed_under_spin_reflections(A2A2, A2A2)\n",
        "A2A2stable"
      ]
    },
    {
      "cell_type": "code",
      "execution_count": 22,
      "metadata": {
        "colab": {
          "base_uri": "https://localhost:8080/"
        },
        "id": "9c8z-s9y4XRH",
        "outputId": "2c4d8f77-e6a3-47ad-c8ff-ff44abeefaf0"
      },
      "outputs": [
        {
          "output_type": "execute_result",
          "data": {
            "text/plain": [
              "True"
            ]
          },
          "metadata": {},
          "execution_count": 22
        }
      ],
      "source": [
        "compA2A2stable = closed_under_spin_reflections(compA2A2, A2A2)\n",
        "compA2A2stable"
      ]
    },
    {
      "cell_type": "code",
      "execution_count": 22,
      "metadata": {
        "id": "pC3ghF_F4XRH"
      },
      "outputs": [],
      "source": []
    },
    {
      "cell_type": "markdown",
      "metadata": {
        "id": "jsU4cJlv4XRH"
      },
      "source": [
        "$H_2\\oplus H_2$ example (Grand Antiprism)"
      ]
    },
    {
      "cell_type": "code",
      "execution_count": 23,
      "metadata": {
        "colab": {
          "base_uri": "https://localhost:8080/"
        },
        "id": "qTgkHY3j4XRH",
        "outputId": "6bb33085-02c1-4b56-f7f0-32355e2bbdf5"
      },
      "outputs": [
        {
          "output_type": "stream",
          "name": "stdout",
          "text": [
            "4 8\n",
            "----------------\n",
            "12 6\n",
            "----------------\n",
            "18 2\n",
            "----------------\n",
            "This is a root system with  20  roots\n"
          ]
        }
      ],
      "source": [
        "H2H2 = closure_of_roots_in_spin([a1*a1, a3*a2, e1*e2*e3*a3, e1*e2*e3*a2])"
      ]
    },
    {
      "cell_type": "code",
      "execution_count": 24,
      "metadata": {
        "colab": {
          "base_uri": "https://localhost:8080/"
        },
        "id": "99KplB5N4XRH",
        "outputId": "31285add-2984-4544-f293-b8f38e0fcd77"
      },
      "outputs": [
        {
          "output_type": "stream",
          "name": "stdout",
          "text": [
            "True\n",
            "True\n",
            "True\n",
            "True\n",
            "True\n",
            "True\n",
            "True\n",
            "True\n",
            "True\n",
            "True\n",
            "True\n",
            "True\n",
            "True\n",
            "True\n",
            "True\n",
            "True\n",
            "True\n",
            "True\n",
            "True\n",
            "True\n"
          ]
        }
      ],
      "source": [
        "for dec in H2H2:\n",
        "    print(dec in spin_group_H3)"
      ]
    },
    {
      "cell_type": "code",
      "execution_count": 25,
      "metadata": {
        "colab": {
          "base_uri": "https://localhost:8080/",
          "height": 37
        },
        "id": "HVvcJZJO4XRH",
        "outputId": "067a3de4-1450-4798-924b-6590f2b01738"
      },
      "outputs": [
        {
          "output_type": "execute_result",
          "data": {
            "text/plain": [
              "100"
            ],
            "text/latex": "$\\displaystyle 100$"
          },
          "metadata": {},
          "execution_count": 25
        }
      ],
      "source": [
        "GA = []\n",
        "\n",
        "for elmt in spin_group_H3:\n",
        "    if not elmt  in H2H2:\n",
        "        GA.append(elmt)\n",
        "len(GA)"
      ]
    },
    {
      "cell_type": "code",
      "execution_count": 25,
      "metadata": {
        "id": "-LxRiWAA4XRH"
      },
      "outputs": [],
      "source": []
    },
    {
      "cell_type": "code",
      "execution_count": 26,
      "metadata": {
        "colab": {
          "base_uri": "https://localhost:8080/"
        },
        "id": "zb4kJFUO4XRH",
        "outputId": "99532614-dcab-4ce7-c266-4773c7effcc7"
      },
      "outputs": [
        {
          "output_type": "execute_result",
          "data": {
            "text/plain": [
              "True"
            ]
          },
          "metadata": {},
          "execution_count": 26
        }
      ],
      "source": [
        "closed_under_spin_reflections(GA, H2H2)"
      ]
    },
    {
      "cell_type": "code",
      "execution_count": 27,
      "metadata": {
        "colab": {
          "base_uri": "https://localhost:8080/"
        },
        "id": "1BDW9hT54XRH",
        "outputId": "7f59abb9-664d-4a9c-d510-2eb4eaca9732"
      },
      "outputs": [
        {
          "output_type": "execute_result",
          "data": {
            "text/plain": [
              "True"
            ]
          },
          "metadata": {},
          "execution_count": 27
        }
      ],
      "source": [
        "H2H2stable = closed_under_spin_reflections(H2H2, H2H2)\n",
        "H2H2stable"
      ]
    },
    {
      "cell_type": "markdown",
      "metadata": {
        "id": "d_oElEm34XRH"
      },
      "source": [
        "Aside for different choices of simple roots for the subrootsystems we need:"
      ]
    },
    {
      "cell_type": "markdown",
      "metadata": {
        "id": "G7Uy7l-p4XRI"
      },
      "source": [
        "$H_2\\oplus H_2$ (see separate worksheet for doubling)"
      ]
    },
    {
      "cell_type": "code",
      "execution_count": null,
      "metadata": {
        "id": "1miEzyKu4XRI"
      },
      "outputs": [],
      "source": [
        "from sympy.matrices import Matrix, eye, zeros, ones, diag, GramSchmidt\n",
        "\n",
        "simple_roots_4D = [a1*a1, a2*a3, a3*e1*e2*e3,  a2*e1*e2*e3]\n",
        "\n",
        "A = zeros(4, 4)\n",
        "for i in range(len(simple_roots_4D)):\n",
        "    for j in range(len(simple_roots_4D)):\n",
        "        tmp = spIP(simple_roots_4D[i], simple_roots_4D[j])\n",
        "        A[i,j]=2*tmp.blade_coefs()[0]\n",
        "A"
      ]
    },
    {
      "cell_type": "markdown",
      "metadata": {
        "id": "n9qWdc794XRI"
      },
      "source": [
        "$A_2\\oplus A_2$"
      ]
    },
    {
      "cell_type": "code",
      "execution_count": 29,
      "metadata": {
        "colab": {
          "base_uri": "https://localhost:8080/",
          "height": 98
        },
        "id": "cgI-Rlbv4XRI",
        "outputId": "1c8bec00-dd79-467e-e560-9634eeb48143"
      },
      "outputs": [
        {
          "output_type": "execute_result",
          "data": {
            "text/plain": [
              "Matrix([\n",
              "[ 2.0, -1.0,    0,    0],\n",
              "[-1.0,  2.0,    0,    0],\n",
              "[   0,    0,  2.0, -1.0],\n",
              "[   0,    0, -1.0,  2.0]])"
            ],
            "text/latex": "$\\displaystyle \\left[\\begin{array}{cccc}2.0 & -1.0 & 0 & 0\\\\-1.0 & 2.0 & 0 & 0\\\\0 & 0 & 2.0 & -1.0\\\\0 & 0 & -1.0 & 2.0\\end{array}\\right]$"
          },
          "metadata": {},
          "execution_count": 29
        }
      ],
      "source": [
        "simple_roots_4D = [a1*a1, a1*a2, a2*e1*e2*e3,  a1*e1*e2*e3]\n",
        "\n",
        "A = zeros(4, 4)\n",
        "for i in range(len(simple_roots_4D)):\n",
        "    for j in range(len(simple_roots_4D)):\n",
        "        #print(simple_roots_4D[i],simple_roots_4D[j])\n",
        "        tmp = spIP(simple_roots_4D[i], simple_roots_4D[j])\n",
        "        #print(tmp.blade_coefs()[0])\n",
        "        A[i,j]=2*tmp.blade_coefs()[0] #spIP(simple_roots_4D[i], simple_roots_4D[j])\n",
        "A"
      ]
    },
    {
      "cell_type": "code",
      "execution_count": null,
      "metadata": {
        "id": "uEVWDZS14XRI"
      },
      "outputs": [],
      "source": []
    },
    {
      "cell_type": "code",
      "execution_count": null,
      "metadata": {
        "id": "SNH8QVkW4XRI"
      },
      "outputs": [],
      "source": []
    },
    {
      "cell_type": "markdown",
      "metadata": {
        "id": "rL9hHaIT4XRI"
      },
      "source": [
        "$H_4$"
      ]
    },
    {
      "cell_type": "code",
      "execution_count": 30,
      "metadata": {
        "colab": {
          "base_uri": "https://localhost:8080/",
          "height": 101
        },
        "id": "JgBCdrUn4XRI",
        "outputId": "6a731eb9-5109-4956-9105-7adb62055ddf"
      },
      "outputs": [
        {
          "data": {
            "text/latex": "$\\displaystyle \\left[\\begin{array}{cccc}2.0 & -1.0 & 0 & 0\\\\-1.0 & 2.0 & -1.0 & 0\\\\0 & -1.0 & 2.0 & - 0.5 \\sqrt{5} - 0.5\\\\0 & 0 & - 0.5 \\sqrt{5} - 0.5 & 2.0\\end{array}\\right]$",
            "text/plain": [
              "Matrix([\n",
              "[ 2.0, -1.0,                  0,                  0],\n",
              "[-1.0,  2.0,               -1.0,                  0],\n",
              "[   0, -1.0,                2.0, -0.5*sqrt(5) - 0.5],\n",
              "[   0,    0, -0.5*sqrt(5) - 0.5,                2.0]])"
            ]
          },
          "execution_count": 30,
          "metadata": {},
          "output_type": "execute_result"
        }
      ],
      "source": [
        "simple_roots_4D = [a1*a1, a1*a2,  e1*e2*a2*e3, a2*e1*e2*e3]\n",
        "\n",
        "A = CM(simple_roots_4D)\n",
        "A\n"
      ]
    },
    {
      "cell_type": "code",
      "execution_count": null,
      "metadata": {
        "colab": {
          "base_uri": "https://localhost:8080/"
        },
        "id": "9XgLODyl4XRJ",
        "outputId": "91249bb6-49a4-4b6e-e99e-8395939f85eb"
      },
      "outputs": [
        {
          "output_type": "stream",
          "name": "stdout",
          "text": [
            "4 8\n",
            "----------------\n",
            "12 8\n",
            "----------------\n",
            "20 8\n",
            "----------------\n",
            "28 8\n",
            "----------------\n",
            "36 8\n",
            "----------------\n",
            "44 8\n",
            "----------------\n",
            "52 7\n",
            "----------------\n",
            "59 6\n",
            "----------------\n"
          ]
        }
      ],
      "source": [
        "H4_RS=closure_of_roots_in_spin(simple_roots_4D)"
      ]
    },
    {
      "cell_type": "markdown",
      "metadata": {
        "id": "uTGAQewa4XRK"
      },
      "source": [
        "$A_4$"
      ]
    },
    {
      "cell_type": "code",
      "execution_count": null,
      "metadata": {
        "id": "P1NtoGbD4XRK"
      },
      "outputs": [],
      "source": [
        "CM([a1*a1, a1*a2, a1*a3*a2*a1*a3*a2*a1*a3, a3*a2*a1*a3*a2*a1*a3*a2*a3*a1*a2*a3])"
      ]
    },
    {
      "cell_type": "code",
      "execution_count": null,
      "metadata": {
        "id": "MCpGcr394XRL"
      },
      "outputs": [],
      "source": [
        "A4 = closure_of_roots_in_spin([a1*a1, a1*a2, a1*a3*a2*a1*a3*a2*a1*a3, a3*a2*a1*a3*a2*a1*a3*a2*a3*a1*a2*a3])"
      ]
    },
    {
      "cell_type": "markdown",
      "metadata": {
        "id": "XnkUPve94XRL"
      },
      "source": [
        "Carry on with the stability of the complementary polytope pairs here for the other cases whose simple roots we now have."
      ]
    },
    {
      "cell_type": "code",
      "execution_count": null,
      "metadata": {
        "id": "X5bXhmUX4XRL"
      },
      "outputs": [],
      "source": [
        "A4snub = []\n",
        "\n",
        "for elmt in spin_group_H3:\n",
        "    if not elmt  in A4:\n",
        "        A4snub.append(elmt)\n",
        "len(A4snub)"
      ]
    },
    {
      "cell_type": "code",
      "execution_count": null,
      "metadata": {
        "id": "qYtfVb474XRL"
      },
      "outputs": [],
      "source": [
        "A4snub_stable = closed_under_spin_reflections(A4snub, A4)\n",
        "A4snub_stable"
      ]
    },
    {
      "cell_type": "code",
      "execution_count": null,
      "metadata": {
        "id": "vsweij-04XRL"
      },
      "outputs": [],
      "source": []
    },
    {
      "cell_type": "markdown",
      "metadata": {
        "id": "IJLWbzus4XRL"
      },
      "source": [
        "$D_4$ and the snub 24-cell"
      ]
    },
    {
      "cell_type": "code",
      "execution_count": null,
      "metadata": {
        "id": "mAGoU0gQ4XRL"
      },
      "outputs": [],
      "source": [
        "CM([a1*a1, a1*a2, a1*a2*a3*a2*a3*a1*a2*a3, a3*a2*a1*a3*a2*a1*a3*a2])"
      ]
    },
    {
      "cell_type": "code",
      "execution_count": null,
      "metadata": {
        "id": "W44LG04W4XRL"
      },
      "outputs": [],
      "source": [
        "D4 = closure_of_roots_in_spin([a1*a1, a1*a2, a1*a2*a3*a2*a3*a1*a2*a3, a3*a2*a1*a3*a2*a1*a3*a2])"
      ]
    },
    {
      "cell_type": "code",
      "execution_count": null,
      "metadata": {
        "id": "6OCzxQRv4XRL"
      },
      "outputs": [],
      "source": [
        "snub = []\n",
        "\n",
        "for elmt in spin_group_H3:\n",
        "    if not elmt  in D4:\n",
        "        snub.append(elmt)\n",
        "len(snub)"
      ]
    },
    {
      "cell_type": "code",
      "execution_count": null,
      "metadata": {
        "id": "srMDY5lC4XRM"
      },
      "outputs": [],
      "source": [
        "D4stable = closed_under_spin_reflections(D4, D4)\n",
        "D4stable"
      ]
    },
    {
      "cell_type": "code",
      "execution_count": null,
      "metadata": {
        "id": "0nwOlG-24XRM"
      },
      "outputs": [],
      "source": [
        "snub_stable = closed_under_spin_reflections(snub, D4)\n",
        "snub_stable"
      ]
    },
    {
      "cell_type": "markdown",
      "metadata": {
        "id": "cet7JZVi4XRM"
      },
      "source": [
        "Just some routines to export the point lists"
      ]
    },
    {
      "cell_type": "code",
      "execution_count": null,
      "metadata": {
        "id": "hXvrFiKe4XRM"
      },
      "outputs": [],
      "source": [
        "def ThreeDspinortofourDvector(spinor):\n",
        "    b0 = (spinor.blade_coefs()[0])\n",
        "    b3 = (spinor.blade_coefs()[4])\n",
        "    b2 =-(spinor.blade_coefs()[5])\n",
        "    b1 = (spinor.blade_coefs()[6])\n",
        "    B =[b0, b3, -b2, b1]\n",
        "    return B\n",
        "\n",
        "def ThreeDspinortofourDvector_num(spinor):\n",
        "    b0 = (spinor.blade_coefs()[0])\n",
        "    b3 = (spinor.blade_coefs()[4])\n",
        "    b2 =-(spinor.blade_coefs()[5])\n",
        "    b1 = (spinor.blade_coefs()[6])\n",
        "    B =[round(float(b0), 3), round(float(b3), 3), round(float(-b2), 3), round(float(b1),3)]\n",
        "    return B\n",
        "\n",
        "def fourDvecto3Dspinor(vector):\n",
        "    a0 = vector[0]\n",
        "    a3 = vector[1]\n",
        "    a2 =-vector[2]\n",
        "    a1 = vector[3]\n",
        "    B =a0+a1*(e2^e3) - a2*(e1^e3) + a3*(e1^e2)\n",
        "    return B"
      ]
    },
    {
      "cell_type": "markdown",
      "metadata": {
        "id": "hS6pM9kT4XRN"
      },
      "source": [
        "$A_1^4$"
      ]
    },
    {
      "cell_type": "code",
      "execution_count": null,
      "metadata": {
        "id": "ehO9Dfpj4XRN"
      },
      "outputs": [],
      "source": [
        "A14 = closure_of_roots_in_spin([e1*e1, e1*e2, e2*e3, e3*e1])"
      ]
    },
    {
      "cell_type": "code",
      "execution_count": null,
      "metadata": {
        "id": "8baa_OYV4XRN"
      },
      "outputs": [],
      "source": [
        "snubA14 = []\n",
        "\n",
        "for elmt in spin_group_H3:\n",
        "    if not elmt  in A14:\n",
        "        snubA14.append(elmt)\n",
        "len(snubA14)"
      ]
    },
    {
      "cell_type": "code",
      "execution_count": null,
      "metadata": {
        "id": "cYPdgIGD4XRN"
      },
      "outputs": [],
      "source": [
        "A14stable = closed_under_spin_reflections(A14, A14)\n",
        "A14stable"
      ]
    },
    {
      "cell_type": "code",
      "execution_count": null,
      "metadata": {
        "id": "NqJUaG2Y4XRN"
      },
      "outputs": [],
      "source": [
        "A14stable = closed_under_spin_reflections(snubA14, A14)\n",
        "A14stable"
      ]
    },
    {
      "cell_type": "code",
      "execution_count": null,
      "metadata": {
        "id": "Pa-rDGZQ4XRN"
      },
      "outputs": [],
      "source": []
    },
    {
      "cell_type": "markdown",
      "metadata": {
        "id": "crkAJTBy4XRN"
      },
      "source": [
        "# Coxeter plane"
      ]
    },
    {
      "cell_type": "markdown",
      "metadata": {
        "id": "OC2JRei74XRN"
      },
      "source": [
        "Verify eigenvector and eigenvalue of the $H_4$ Cartan matrix"
      ]
    },
    {
      "cell_type": "code",
      "execution_count": null,
      "metadata": {
        "id": "xM8d7G6y4XRN"
      },
      "outputs": [],
      "source": [
        "C_H4 = CM(simple_roots_4D)\n",
        "M_evec = zeros(4,1)\n",
        "M_evec[0] = 4+4*sympy.sqrt(5)\n",
        "M_evec[1] = 2*sympy.sqrt(7+sympy.sqrt(30+6*sympy.sqrt(5))+sympy.sqrt(5))*(1+sympy.sqrt(5))\n",
        "M_evec[2] = sympy.sqrt(30+6*sympy.sqrt(5))*sympy.sqrt(5)+4*sympy.sqrt(5)+sympy.sqrt(30+6*sympy.sqrt(5))+8\n",
        "M_evec[3] = (sympy.sqrt(5)+sympy.sqrt(30+6*sympy.sqrt(5))-1)*sympy.sqrt(7+sympy.sqrt(30+6*sympy.sqrt(5))+sympy.sqrt(5))\n",
        "\n",
        "M_eval = 2-(1/2)*sympy.sqrt(7+sympy.sqrt(30+6*sympy.sqrt(5))+sympy.sqrt(5))\n",
        "\n",
        "tmp = C_H4*M_evec-M_eval*M_evec\n",
        "print(sympy.expand(tmp))"
      ]
    },
    {
      "cell_type": "code",
      "execution_count": null,
      "metadata": {
        "id": "V7_tRk8g4XRN"
      },
      "outputs": [],
      "source": []
    },
    {
      "cell_type": "markdown",
      "metadata": {
        "id": "vb087Q-y4XRN"
      },
      "source": [
        "Find/verify the reciprocal basis of fundamental weights:"
      ]
    },
    {
      "cell_type": "code",
      "execution_count": null,
      "metadata": {
        "id": "iFUTwmb84XRO"
      },
      "outputs": [],
      "source": [
        "reciprocal_roots = [1-tau*(e2^e3) - (tau+1)*(e1^e3), -2*tau*(e2^e3) - 2*(tau+1)*(e1^e3),-(2*tau+1)*(e2^e3) - 3*(tau+1)*(e1^e3) -tau*(e1^e2) ,-(2*tau+1)*(e2^e3) - (3*tau+1)*(e1^e3) -tau*(e1^e2)]"
      ]
    },
    {
      "cell_type": "code",
      "execution_count": null,
      "metadata": {
        "id": "FxZgah7z4XRO"
      },
      "outputs": [],
      "source": [
        "Follow the 4D Coxeter plane discussion (e.g. from the Sage worksheet) entirely in spinorial terms in the even subalgebra. Rec = zeros(4)\n",
        "for i in range(len(simple_roots_4D)):\n",
        "    for j in range(len(reciprocal_roots)):\n",
        "        tmp=((spIP(simple_roots_4D[i], reciprocal_roots[j])))\n",
        "        Rec[i,j]=tmp.blade_coefs()[0]\n",
        "Rec\n"
      ]
    },
    {
      "cell_type": "markdown",
      "metadata": {
        "id": "-kja5SGT4XRO"
      },
      "source": [
        "Follow the 4D Coxeter plane discussion (e.g. from the Sage worksheet) entirely in spinorial terms in the even subalgebra."
      ]
    },
    {
      "cell_type": "code",
      "execution_count": null,
      "metadata": {
        "id": "te0N6E8I4XRO"
      },
      "outputs": [],
      "source": [
        "# find partition of roots\n",
        "PF_vec = Maple_evec #PF_vec =vector([0.371748034514429893,0.707106781320503752,0.601500954816544975])#cheat\n",
        "\n",
        "Omega_H4=reciprocal_roots\n",
        "\n",
        "#could also define a function - do by hand for now!\n",
        "roots_black_H4 = [0,2]\n",
        "roots_white_H4 = [1,3]\n",
        "\n",
        "black_vector_H4 = 0\n",
        "white_vector_H4 = 0\n",
        "\n",
        "for i in roots_black_H4:\n",
        "    black_vector_H4 = black_vector_H4  +PF_vec[i]*Omega_H4[i]\n",
        "\n",
        "for i in roots_white_H4:\n",
        "    white_vector_H4 = white_vector_H4+PF_vec[i]*Omega_H4[i]\n",
        "\n",
        "#these two vectors define the Coxeter plane. Now turn them into a Cartesian coordinate system there\n",
        "\n",
        "#normalise\n",
        "black_vector_H4 =black_vector_H4/(black_vector_H4.norm())\n",
        "white_vector_H4 =white_vector_H4/(white_vector_H4.norm())\n",
        "\n",
        "\n",
        "spIP(black_vector_H4, white_vector_H4)\n",
        "\n",
        "#orthogonalise\n",
        "black_vector_H4 = black_vector_H4 - spIP(black_vector_H4, white_vector_H4) *white_vector_H4\n",
        "#renormalise\n",
        "black_vector_H4 =black_vector_H4/(black_vector_H4.norm())\n",
        "\n",
        "tmp = spIP(black_vector_H4, white_vector_H4)\n",
        "float(tmp.blade_coefs()[0])"
      ]
    },
    {
      "cell_type": "code",
      "execution_count": null,
      "metadata": {
        "id": "dR99dk374XRP"
      },
      "outputs": [],
      "source": [
        "float_black_vector_H4 =float(black_vector_H4.blade_coefs()[0])+float(black_vector_H4.blade_coefs()[6])*(e2^e3) +float(black_vector_H4.blade_coefs()[5])*(e1^e3) + float(black_vector_H4.blade_coefs()[4])*(e1^e2)\n",
        "\n",
        "float_white_vector_H4 =float(white_vector_H4.blade_coefs()[0])+float(white_vector_H4.blade_coefs()[6])*(e2^e3) +float(white_vector_H4.blade_coefs()[5])*(e1^e3) + float(white_vector_H4.blade_coefs()[4])*(e1^e2)\n",
        "\n"
      ]
    },
    {
      "cell_type": "code",
      "execution_count": null,
      "metadata": {
        "id": "9EuyLkBD4XRP"
      },
      "outputs": [],
      "source": []
    },
    {
      "cell_type": "markdown",
      "metadata": {
        "id": "MyeCsqyq4XRP"
      },
      "source": [
        "Plotting here not as pretty as in Sage but in 2D and without the 3D bounding boxes."
      ]
    },
    {
      "cell_type": "code",
      "execution_count": null,
      "metadata": {
        "id": "obJ4mWz14XRP"
      },
      "outputs": [],
      "source": [
        "H4_RS_proj=[]\n",
        "for i in H4_RS:\n",
        "    tmp_b = spIP(i, float_black_vector_H4)\n",
        "    tmp_w = spIP(i, float_white_vector_H4)\n",
        "    H4_RS_proj.append([tmp_b.blade_coefs()[0], tmp_w.blade_coefs()[0]])"
      ]
    },
    {
      "cell_type": "code",
      "execution_count": null,
      "metadata": {
        "id": "9en6w91A4XRP"
      },
      "outputs": [],
      "source": [
        "import matplotlib.pyplot as plt\n",
        "\n",
        "x = [i[0] for i in H4_RS_proj]\n",
        "y = [i[1] for i in H4_RS_proj]\n",
        "plt.axes().set_aspect('equal')\n",
        "plt.xlabel('')\n",
        "plt.ylabel('')\n",
        "plt.axes().set_xticks([])\n",
        "plt.axes().set_yticks([])\n",
        "plt.scatter(x,y)"
      ]
    },
    {
      "cell_type": "code",
      "execution_count": null,
      "metadata": {
        "id": "kvFH1zGl4XRQ"
      },
      "outputs": [],
      "source": [
        "A2A2_RS=A2A2\n",
        "A2A2_RS_proj=[]\n",
        "for i in A2A2_RS:\n",
        "    tmp_b = spIP(i, float_black_vector_H4)\n",
        "    tmp_w = spIP(i, float_white_vector_H4)\n",
        "    A2A2_RS_proj.append([tmp_b.blade_coefs()[0], tmp_w.blade_coefs()[0]])\n",
        "x = [i[0] for i in A2A2_RS_proj]\n",
        "y = [i[1] for i in A2A2_RS_proj]\n",
        "plt.axes().set_aspect('equal')\n",
        "plt.xlabel('')\n",
        "plt.ylabel('')\n",
        "plt.axes().set_xticks([])\n",
        "plt.axes().set_yticks([])\n",
        "plt.scatter(x,y)"
      ]
    },
    {
      "cell_type": "code",
      "execution_count": null,
      "metadata": {
        "id": "Neu-NqIF4XRQ"
      },
      "outputs": [],
      "source": [
        "H2H2_RS=H2H2\n",
        "H2H2_RS_proj=[]\n",
        "for i in H2H2_RS:\n",
        "    tmp_b = spIP(i, float_black_vector_H4)\n",
        "    tmp_w = spIP(i, float_white_vector_H4)\n",
        "    H2H2_RS_proj.append([tmp_b.blade_coefs()[0], tmp_w.blade_coefs()[0]])\n",
        "x = [i[0] for i in H2H2_RS_proj]\n",
        "y = [i[1] for i in H2H2_RS_proj]\n",
        "plt.axes().set_aspect('equal')\n",
        "plt.xlabel('')\n",
        "plt.ylabel('')\n",
        "plt.axes().set_xticks([])\n",
        "plt.axes().set_yticks([])\n",
        "plt.scatter(x,y)"
      ]
    },
    {
      "cell_type": "code",
      "execution_count": null,
      "metadata": {
        "id": "HubBdJYz4XRQ"
      },
      "outputs": [],
      "source": [
        "A4_RS=A4\n",
        "A4_RS_proj=[]\n",
        "for i in A4_RS:\n",
        "    tmp_b = spIP(i, float_black_vector_H4)\n",
        "    tmp_w = spIP(i, float_white_vector_H4)\n",
        "    A4_RS_proj.append([tmp_b.blade_coefs()[0], tmp_w.blade_coefs()[0]])\n",
        "x = [i[0] for i in A4_RS_proj]\n",
        "y = [i[1] for i in A4_RS_proj]\n",
        "plt.axes().set_aspect('equal')\n",
        "plt.xlabel('')\n",
        "plt.ylabel('')\n",
        "plt.axes().set_xticks([])\n",
        "plt.axes().set_yticks([])\n",
        "plt.scatter(x,y)"
      ]
    },
    {
      "cell_type": "code",
      "execution_count": null,
      "metadata": {
        "id": "q-3EigM44XRQ"
      },
      "outputs": [],
      "source": [
        "D4_RS=D4\n",
        "D4_RS_proj=[]\n",
        "for i in D4_RS:\n",
        "    tmp_b = spIP(i, float_black_vector_H4)\n",
        "    tmp_w = spIP(i, float_white_vector_H4)\n",
        "    D4_RS_proj.append([tmp_b.blade_coefs()[0], tmp_w.blade_coefs()[0]])\n",
        "x = [i[0] for i in D4_RS_proj]\n",
        "y = [i[1] for i in D4_RS_proj]\n",
        "plt.axes().set_aspect('equal')\n",
        "plt.xlabel('')\n",
        "plt.ylabel('')\n",
        "plt.axes().set_xticks([])\n",
        "plt.axes().set_yticks([])\n",
        "plt.scatter(x,y)"
      ]
    },
    {
      "cell_type": "code",
      "execution_count": null,
      "metadata": {
        "id": "bdtbmXVX4XRQ"
      },
      "outputs": [],
      "source": [
        "A14_RS=A14\n",
        "A14_RS_proj=[]\n",
        "for i in A14_RS:\n",
        "    tmp_b = spIP(i, float_black_vector_H4)\n",
        "    tmp_w = spIP(i, float_white_vector_H4)\n",
        "    A14_RS_proj.append([tmp_b.blade_coefs()[0], tmp_w.blade_coefs()[0]])\n",
        "x = [i[0] for i in A14_RS_proj]\n",
        "y = [i[1] for i in A14_RS_proj]\n",
        "plt.axes().set_aspect('equal')\n",
        "plt.xlabel('')\n",
        "plt.ylabel('')\n",
        "plt.axes().set_xticks([])\n",
        "plt.axes().set_yticks([])\n",
        "plt.scatter(x,y)"
      ]
    },
    {
      "cell_type": "code",
      "execution_count": null,
      "metadata": {
        "id": "7bzo8IQI4XRR"
      },
      "outputs": [],
      "source": []
    },
    {
      "cell_type": "code",
      "execution_count": null,
      "metadata": {
        "id": "GbW7Ul0-4XRR"
      },
      "outputs": [],
      "source": [
        "A14_RS=snubA14\n",
        "A14_RS_proj=[]\n",
        "for i in A14_RS:\n",
        "    tmp_b = spIP(i, float_black_vector_H4)\n",
        "    tmp_w = spIP(i, float_white_vector_H4)\n",
        "    A14_RS_proj.append([tmp_b.blade_coefs()[0], tmp_w.blade_coefs()[0]])\n",
        "x = [i[0] for i in A14_RS_proj]\n",
        "y = [i[1] for i in A14_RS_proj]\n",
        "plt.axes().set_aspect('equal')\n",
        "plt.xlabel('')\n",
        "plt.ylabel('')\n",
        "plt.axes().set_xticks([])\n",
        "plt.axes().set_yticks([])\n",
        "plt.scatter(x,y)"
      ]
    },
    {
      "cell_type": "code",
      "execution_count": null,
      "metadata": {
        "id": "1THmDzBt4XRR"
      },
      "outputs": [],
      "source": []
    },
    {
      "cell_type": "markdown",
      "metadata": {
        "id": "VaOsfd1M4XRR"
      },
      "source": [
        "Final checks root systems are closed and contained in $H_4$."
      ]
    },
    {
      "cell_type": "code",
      "execution_count": null,
      "metadata": {
        "id": "lUioogdQ4XRR"
      },
      "outputs": [],
      "source": [
        "\n",
        "for i in [a1*e3,   a2*e1*e2*e3,a2*e3,a1*e1*e2*e3]:\n",
        "    print(i in spin_group_H3)\n",
        "\n"
      ]
    },
    {
      "cell_type": "code",
      "execution_count": null,
      "metadata": {
        "id": "g-Kda9As4XRR"
      },
      "outputs": [],
      "source": [
        "A2A2_spin_closure = closure_of_generators([a1*a1, a1*a2, e1*e2*e3*a1, e1*e2*e3*a2])\n"
      ]
    },
    {
      "cell_type": "code",
      "execution_count": null,
      "metadata": {
        "id": "2S9StsTg4XRR"
      },
      "outputs": [],
      "source": [
        "H2H2_spin_closure = closure_of_generators([a1*a1, a2*a3, e1*e2*e3*a2, e1*e2*e3*a3])"
      ]
    },
    {
      "cell_type": "code",
      "execution_count": null,
      "metadata": {
        "id": "bEgjjNSo4XRR"
      },
      "outputs": [],
      "source": [
        "for i in A2A2_spin_closure:\n",
        "    for j in A2A2_spin_closure:\n",
        "        if i*j not in A2A2_spin_closure:\n",
        "            print('problem')"
      ]
    },
    {
      "cell_type": "code",
      "execution_count": null,
      "metadata": {
        "id": "a0970b0O4XRR"
      },
      "outputs": [],
      "source": [
        "for i in H2H2_spin_closure:\n",
        "    for j in H2H2_spin_closure:\n",
        "        if i*j not in H2H2_spin_closure:\n",
        "            print('problem')"
      ]
    },
    {
      "cell_type": "code",
      "execution_count": null,
      "metadata": {
        "id": "TaV8mgTZ4XRR"
      },
      "outputs": [],
      "source": []
    }
  ],
  "metadata": {
    "kernelspec": {
      "display_name": "Python 3",
      "language": "python",
      "name": "python3"
    },
    "language_info": {
      "codemirror_mode": {
        "name": "ipython",
        "version": 3
      },
      "file_extension": ".py",
      "mimetype": "text/x-python",
      "name": "python",
      "nbconvert_exporter": "python",
      "pygments_lexer": "ipython3",
      "version": "3.7.1"
    },
    "colab": {
      "provenance": [],
      "include_colab_link": true
    }
  },
  "nbformat": 4,
  "nbformat_minor": 0
}